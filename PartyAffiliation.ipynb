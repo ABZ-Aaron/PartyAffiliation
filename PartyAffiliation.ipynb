{
  "nbformat": 4,
  "nbformat_minor": 0,
  "metadata": {
    "colab": {
      "name": "PartyAffiliation.ipynb",
      "provenance": [],
      "collapsed_sections": [],
      "authorship_tag": "ABX9TyPh4iF6zWfesb3KfJqnIDpT",
      "include_colab_link": true
    },
    "kernelspec": {
      "name": "python3",
      "display_name": "Python 3"
    },
    "language_info": {
      "name": "python"
    }
  },
  "cells": [
    {
      "cell_type": "markdown",
      "metadata": {
        "id": "view-in-github",
        "colab_type": "text"
      },
      "source": [
        "<a href=\"https://colab.research.google.com/github/ABZ-Aaron/PartyAffiliation/blob/master/PartyAffiliation.ipynb\" target=\"_parent\"><img src=\"https://colab.research.google.com/assets/colab-badge.svg\" alt=\"Open In Colab\"/></a>"
      ]
    },
    {
      "cell_type": "markdown",
      "metadata": {
        "id": "Bl72j8shAbSb"
      },
      "source": [
        "# Party Affiliation in the United States\n",
        "#### By Aaron Wright - 1912626\n",
        "---"
      ]
    },
    {
      "cell_type": "markdown",
      "source": [
        "The purpose of this analysis is two implement 2 distinct AI algorithms on a selected dataset. Throughout this report I will apply classification techniques to help assess voting habits, and predict whether an indvidiual votes **Democrat** or **Republican**."
      ],
      "metadata": {
        "id": "jo2ApEBi0YM5"
      }
    },
    {
      "cell_type": "markdown",
      "source": [
        "## Dataset"
      ],
      "metadata": {
        "id": "CV9D9ZhC0if0"
      }
    },
    {
      "cell_type": "markdown",
      "source": [
        "This dataset was taken from the UCI Machine Learning Repository ([source]('https://archive.ics.uci.edu/ml/datasets/Congressional+Voting+Records'))"
      ],
      "metadata": {
        "id": "juaHTQ7Y0uQj"
      }
    },
    {
      "cell_type": "markdown",
      "source": [
        "### Title"
      ],
      "metadata": {
        "id": "NL4m8rpZ0lXi"
      }
    },
    {
      "cell_type": "markdown",
      "metadata": {
        "id": "Ax0osJd3LCmj"
      },
      "source": [
        "1984 United States Congressional Voting Records"
      ]
    },
    {
      "cell_type": "markdown",
      "source": [
        "### Description\n"
      ],
      "metadata": {
        "id": "S5B8RkWJ02ts"
      }
    },
    {
      "cell_type": "markdown",
      "source": [
        "This dataset contains individual votes from each US Congressman on 16 different key votes identified by the CQA.\n",
        "\n",
        "There are 9 different kinds of votes:\n",
        "\n",
        "* 3 are \"voted for\", \"paired for\", \"annouced for\". These are simplified to \"y\" in the dataset. \n",
        "\n",
        "* 3 are \"voted against\", \"paired against\", and \"announced against\". These are simplified to \"n\" in the dataset.\n",
        "\n",
        "* 3 are \"voted present\", \"voted present to avoid conflict of interest\", \"did not vote or make position known\". These are simplified to \"?\" in the dataset."
      ],
      "metadata": {
        "id": "2Ngao3vb05zn"
      }
    },
    {
      "cell_type": "markdown",
      "source": [
        "### Attributes"
      ],
      "metadata": {
        "id": "iaR18roZ1lCo"
      }
    },
    {
      "cell_type": "markdown",
      "source": [
        "1. party\n",
        "1. handicapped-infants\n",
        "1. water-project-cost-sharing\n",
        "1. adoption-of-the-budget-resolution\n",
        "1. physician-fee-freeze\n",
        "1. el-salvador-aid\n",
        "1. religious-groups-in-schools\n",
        "1. anti-satellite-test-ban\n",
        "1. aid-to-nicaraguan-contras\n",
        "1. mx-missile\n",
        "1. immigration\n",
        "1. synfuels-corporation-cutback\n",
        "1. education-spending\n",
        "1. superfund-right-to-sue\n",
        "1. crime\n",
        "1. duty-free-exports\n",
        "1. export-administration-act-south-africa"
      ],
      "metadata": {
        "id": "qcuVX1WD1mfQ"
      }
    },
    {
      "cell_type": "markdown",
      "source": [
        "## Imports"
      ],
      "metadata": {
        "id": "Bs95kVw5sVlb"
      }
    },
    {
      "cell_type": "code",
      "metadata": {
        "id": "6BzBJNaj8ELi"
      },
      "source": [
        "import pandas as pd\n",
        "import plotly.express as px\n",
        "import numpy as np"
      ],
      "execution_count": 64,
      "outputs": []
    },
    {
      "cell_type": "markdown",
      "source": [
        "## Data Loading"
      ],
      "metadata": {
        "id": "ZQN4aXMvsa4S"
      }
    },
    {
      "cell_type": "code",
      "source": [
        "# Take data from Github repository \n",
        "data = 'https://raw.githubusercontent.com/ABZ-Aaron/PartyAffiliation/master/votes_data.csv?token=AND25LFLHJXHZZMCYHIFOMTBVQHBE'"
      ],
      "metadata": {
        "id": "yc2vaQjFrQmR"
      },
      "execution_count": 2,
      "outputs": []
    },
    {
      "cell_type": "code",
      "source": [
        "# Column names\n",
        "cols = [\"party\", \n",
        "        \"hc-infants\", \n",
        "        \"water-proj\", \n",
        "        \"budget-reso\", \n",
        "        \"fee-freeze\", \n",
        "        \"salvador-aid\", \n",
        "        \"relig-groups\", \n",
        "        \"anti-satell\", \n",
        "        \"nicar-contras\",\n",
        "        \"mx-missile\",\n",
        "        \"immigration\",\n",
        "        \"syn-cutback\",\n",
        "        \"edu-spending\",\n",
        "        \"right-to-sue\",\n",
        "        \"crime\",\n",
        "        \"dutyfree-expo\",\n",
        "        \"admin-act-sou\"]"
      ],
      "metadata": {
        "id": "HQLdKjwhrRUk"
      },
      "execution_count": 3,
      "outputs": []
    },
    {
      "cell_type": "code",
      "source": [
        "# Read in our data\n",
        "votes = pd.read_csv(data, names = cols)"
      ],
      "metadata": {
        "id": "-nhon7OIrTj0"
      },
      "execution_count": 12,
      "outputs": []
    },
    {
      "cell_type": "markdown",
      "source": [
        "## Data Exploration"
      ],
      "metadata": {
        "id": "BsLs7NvUsKy3"
      }
    },
    {
      "cell_type": "code",
      "source": [
        "# Check top 3 records\n",
        "votes.head(3)"
      ],
      "metadata": {
        "id": "ziQdfpYAsglQ",
        "outputId": "5c808cfb-ee37-4ddd-914d-3b000ff1b3cf",
        "colab": {
          "base_uri": "https://localhost:8080/",
          "height": 238
        }
      },
      "execution_count": 20,
      "outputs": [
        {
          "output_type": "execute_result",
          "data": {
            "text/html": [
              "<div>\n",
              "<style scoped>\n",
              "    .dataframe tbody tr th:only-of-type {\n",
              "        vertical-align: middle;\n",
              "    }\n",
              "\n",
              "    .dataframe tbody tr th {\n",
              "        vertical-align: top;\n",
              "    }\n",
              "\n",
              "    .dataframe thead th {\n",
              "        text-align: right;\n",
              "    }\n",
              "</style>\n",
              "<table border=\"1\" class=\"dataframe\">\n",
              "  <thead>\n",
              "    <tr style=\"text-align: right;\">\n",
              "      <th></th>\n",
              "      <th>party</th>\n",
              "      <th>hc-infants</th>\n",
              "      <th>water-proj</th>\n",
              "      <th>budget-reso</th>\n",
              "      <th>fee-freeze</th>\n",
              "      <th>salvador-aid</th>\n",
              "      <th>relig-groups</th>\n",
              "      <th>anti-satell</th>\n",
              "      <th>nicar-contras</th>\n",
              "      <th>mx-missile</th>\n",
              "      <th>immigration</th>\n",
              "      <th>syn-cutback</th>\n",
              "      <th>edu-spending</th>\n",
              "      <th>right-to-sue</th>\n",
              "      <th>crime</th>\n",
              "      <th>dutyfree-expo</th>\n",
              "      <th>admin-act-sou</th>\n",
              "    </tr>\n",
              "  </thead>\n",
              "  <tbody>\n",
              "    <tr>\n",
              "      <th>0</th>\n",
              "      <td>republican</td>\n",
              "      <td>n</td>\n",
              "      <td>y</td>\n",
              "      <td>n</td>\n",
              "      <td>y</td>\n",
              "      <td>y</td>\n",
              "      <td>y</td>\n",
              "      <td>n</td>\n",
              "      <td>n</td>\n",
              "      <td>n</td>\n",
              "      <td>y</td>\n",
              "      <td>?</td>\n",
              "      <td>y</td>\n",
              "      <td>y</td>\n",
              "      <td>y</td>\n",
              "      <td>n</td>\n",
              "      <td>y</td>\n",
              "    </tr>\n",
              "    <tr>\n",
              "      <th>1</th>\n",
              "      <td>republican</td>\n",
              "      <td>n</td>\n",
              "      <td>y</td>\n",
              "      <td>n</td>\n",
              "      <td>y</td>\n",
              "      <td>y</td>\n",
              "      <td>y</td>\n",
              "      <td>n</td>\n",
              "      <td>n</td>\n",
              "      <td>n</td>\n",
              "      <td>n</td>\n",
              "      <td>n</td>\n",
              "      <td>y</td>\n",
              "      <td>y</td>\n",
              "      <td>y</td>\n",
              "      <td>n</td>\n",
              "      <td>?</td>\n",
              "    </tr>\n",
              "    <tr>\n",
              "      <th>2</th>\n",
              "      <td>democrat</td>\n",
              "      <td>?</td>\n",
              "      <td>y</td>\n",
              "      <td>y</td>\n",
              "      <td>?</td>\n",
              "      <td>y</td>\n",
              "      <td>y</td>\n",
              "      <td>n</td>\n",
              "      <td>n</td>\n",
              "      <td>n</td>\n",
              "      <td>n</td>\n",
              "      <td>y</td>\n",
              "      <td>n</td>\n",
              "      <td>y</td>\n",
              "      <td>y</td>\n",
              "      <td>n</td>\n",
              "      <td>n</td>\n",
              "    </tr>\n",
              "    <tr>\n",
              "      <th>3</th>\n",
              "      <td>democrat</td>\n",
              "      <td>n</td>\n",
              "      <td>y</td>\n",
              "      <td>y</td>\n",
              "      <td>n</td>\n",
              "      <td>?</td>\n",
              "      <td>y</td>\n",
              "      <td>n</td>\n",
              "      <td>n</td>\n",
              "      <td>n</td>\n",
              "      <td>n</td>\n",
              "      <td>y</td>\n",
              "      <td>n</td>\n",
              "      <td>y</td>\n",
              "      <td>n</td>\n",
              "      <td>n</td>\n",
              "      <td>y</td>\n",
              "    </tr>\n",
              "    <tr>\n",
              "      <th>4</th>\n",
              "      <td>democrat</td>\n",
              "      <td>y</td>\n",
              "      <td>y</td>\n",
              "      <td>y</td>\n",
              "      <td>n</td>\n",
              "      <td>y</td>\n",
              "      <td>y</td>\n",
              "      <td>n</td>\n",
              "      <td>n</td>\n",
              "      <td>n</td>\n",
              "      <td>n</td>\n",
              "      <td>y</td>\n",
              "      <td>?</td>\n",
              "      <td>y</td>\n",
              "      <td>y</td>\n",
              "      <td>y</td>\n",
              "      <td>y</td>\n",
              "    </tr>\n",
              "  </tbody>\n",
              "</table>\n",
              "</div>"
            ],
            "text/plain": [
              "        party hc-infants water-proj  ... crime dutyfree-expo admin-act-sou\n",
              "0  republican          n          y  ...     y             n             y\n",
              "1  republican          n          y  ...     y             n             ?\n",
              "2    democrat          ?          y  ...     y             n             n\n",
              "3    democrat          n          y  ...     n             n             y\n",
              "4    democrat          y          y  ...     y             y             y\n",
              "\n",
              "[5 rows x 17 columns]"
            ]
          },
          "metadata": {},
          "execution_count": 20
        }
      ]
    },
    {
      "cell_type": "code",
      "source": [
        "# Check bottom 3 records\n",
        "votes.tail(3)"
      ],
      "metadata": {
        "id": "RDNSDeJ6t3J6",
        "outputId": "e396d4d4-72d1-481a-9850-459955f7340d",
        "colab": {
          "base_uri": "https://localhost:8080/",
          "height": 238
        }
      },
      "execution_count": 21,
      "outputs": [
        {
          "output_type": "execute_result",
          "data": {
            "text/html": [
              "<div>\n",
              "<style scoped>\n",
              "    .dataframe tbody tr th:only-of-type {\n",
              "        vertical-align: middle;\n",
              "    }\n",
              "\n",
              "    .dataframe tbody tr th {\n",
              "        vertical-align: top;\n",
              "    }\n",
              "\n",
              "    .dataframe thead th {\n",
              "        text-align: right;\n",
              "    }\n",
              "</style>\n",
              "<table border=\"1\" class=\"dataframe\">\n",
              "  <thead>\n",
              "    <tr style=\"text-align: right;\">\n",
              "      <th></th>\n",
              "      <th>party</th>\n",
              "      <th>hc-infants</th>\n",
              "      <th>water-proj</th>\n",
              "      <th>budget-reso</th>\n",
              "      <th>fee-freeze</th>\n",
              "      <th>salvador-aid</th>\n",
              "      <th>relig-groups</th>\n",
              "      <th>anti-satell</th>\n",
              "      <th>nicar-contras</th>\n",
              "      <th>mx-missile</th>\n",
              "      <th>immigration</th>\n",
              "      <th>syn-cutback</th>\n",
              "      <th>edu-spending</th>\n",
              "      <th>right-to-sue</th>\n",
              "      <th>crime</th>\n",
              "      <th>dutyfree-expo</th>\n",
              "      <th>admin-act-sou</th>\n",
              "    </tr>\n",
              "  </thead>\n",
              "  <tbody>\n",
              "    <tr>\n",
              "      <th>430</th>\n",
              "      <td>republican</td>\n",
              "      <td>n</td>\n",
              "      <td>n</td>\n",
              "      <td>y</td>\n",
              "      <td>y</td>\n",
              "      <td>y</td>\n",
              "      <td>y</td>\n",
              "      <td>n</td>\n",
              "      <td>n</td>\n",
              "      <td>y</td>\n",
              "      <td>y</td>\n",
              "      <td>n</td>\n",
              "      <td>y</td>\n",
              "      <td>y</td>\n",
              "      <td>y</td>\n",
              "      <td>n</td>\n",
              "      <td>y</td>\n",
              "    </tr>\n",
              "    <tr>\n",
              "      <th>431</th>\n",
              "      <td>democrat</td>\n",
              "      <td>n</td>\n",
              "      <td>n</td>\n",
              "      <td>y</td>\n",
              "      <td>n</td>\n",
              "      <td>n</td>\n",
              "      <td>n</td>\n",
              "      <td>y</td>\n",
              "      <td>y</td>\n",
              "      <td>y</td>\n",
              "      <td>y</td>\n",
              "      <td>n</td>\n",
              "      <td>n</td>\n",
              "      <td>n</td>\n",
              "      <td>n</td>\n",
              "      <td>n</td>\n",
              "      <td>y</td>\n",
              "    </tr>\n",
              "    <tr>\n",
              "      <th>432</th>\n",
              "      <td>republican</td>\n",
              "      <td>n</td>\n",
              "      <td>?</td>\n",
              "      <td>n</td>\n",
              "      <td>y</td>\n",
              "      <td>y</td>\n",
              "      <td>y</td>\n",
              "      <td>n</td>\n",
              "      <td>n</td>\n",
              "      <td>n</td>\n",
              "      <td>n</td>\n",
              "      <td>y</td>\n",
              "      <td>y</td>\n",
              "      <td>y</td>\n",
              "      <td>y</td>\n",
              "      <td>n</td>\n",
              "      <td>y</td>\n",
              "    </tr>\n",
              "    <tr>\n",
              "      <th>433</th>\n",
              "      <td>republican</td>\n",
              "      <td>n</td>\n",
              "      <td>n</td>\n",
              "      <td>n</td>\n",
              "      <td>y</td>\n",
              "      <td>y</td>\n",
              "      <td>y</td>\n",
              "      <td>?</td>\n",
              "      <td>?</td>\n",
              "      <td>?</td>\n",
              "      <td>?</td>\n",
              "      <td>n</td>\n",
              "      <td>y</td>\n",
              "      <td>y</td>\n",
              "      <td>y</td>\n",
              "      <td>n</td>\n",
              "      <td>y</td>\n",
              "    </tr>\n",
              "    <tr>\n",
              "      <th>434</th>\n",
              "      <td>republican</td>\n",
              "      <td>n</td>\n",
              "      <td>y</td>\n",
              "      <td>n</td>\n",
              "      <td>y</td>\n",
              "      <td>y</td>\n",
              "      <td>y</td>\n",
              "      <td>n</td>\n",
              "      <td>n</td>\n",
              "      <td>n</td>\n",
              "      <td>y</td>\n",
              "      <td>n</td>\n",
              "      <td>y</td>\n",
              "      <td>y</td>\n",
              "      <td>y</td>\n",
              "      <td>?</td>\n",
              "      <td>n</td>\n",
              "    </tr>\n",
              "  </tbody>\n",
              "</table>\n",
              "</div>"
            ],
            "text/plain": [
              "          party hc-infants water-proj  ... crime dutyfree-expo admin-act-sou\n",
              "430  republican          n          n  ...     y             n             y\n",
              "431    democrat          n          n  ...     n             n             y\n",
              "432  republican          n          ?  ...     y             n             y\n",
              "433  republican          n          n  ...     y             n             y\n",
              "434  republican          n          y  ...     y             ?             n\n",
              "\n",
              "[5 rows x 17 columns]"
            ]
          },
          "metadata": {},
          "execution_count": 21
        }
      ]
    },
    {
      "cell_type": "code",
      "source": [
        "# Show information associated with dataframe\n",
        "votes.info()"
      ],
      "metadata": {
        "id": "tWNUp7kIsgoP",
        "outputId": "c6628a18-ea4d-40b8-94c6-5d36d4634e2d",
        "colab": {
          "base_uri": "https://localhost:8080/"
        }
      },
      "execution_count": 14,
      "outputs": [
        {
          "output_type": "stream",
          "name": "stdout",
          "text": [
            "<class 'pandas.core.frame.DataFrame'>\n",
            "RangeIndex: 435 entries, 0 to 434\n",
            "Data columns (total 17 columns):\n",
            " #   Column         Non-Null Count  Dtype \n",
            "---  ------         --------------  ----- \n",
            " 0   party          435 non-null    object\n",
            " 1   hc-infants     435 non-null    object\n",
            " 2   water-proj     435 non-null    object\n",
            " 3   budget-reso    435 non-null    object\n",
            " 4   fee-freeze     435 non-null    object\n",
            " 5   salvador-aid   435 non-null    object\n",
            " 6   relig-groups   435 non-null    object\n",
            " 7   anti-satell    435 non-null    object\n",
            " 8   nicar-contras  435 non-null    object\n",
            " 9   mx-missile     435 non-null    object\n",
            " 10  immigration    435 non-null    object\n",
            " 11  syn-cutback    435 non-null    object\n",
            " 12  edu-spending   435 non-null    object\n",
            " 13  right-to-sue   435 non-null    object\n",
            " 14  crime          435 non-null    object\n",
            " 15  dutyfree-expo  435 non-null    object\n",
            " 16  admin-act-sou  435 non-null    object\n",
            "dtypes: object(17)\n",
            "memory usage: 57.9+ KB\n"
          ]
        }
      ]
    },
    {
      "cell_type": "code",
      "source": [
        "# Return number of unique values by column\n",
        "votes.nunique()"
      ],
      "metadata": {
        "id": "5iV0vqi0uCWL",
        "outputId": "c34a5cc5-1db4-40f9-981f-35974e0e77cb",
        "colab": {
          "base_uri": "https://localhost:8080/"
        }
      },
      "execution_count": 24,
      "outputs": [
        {
          "output_type": "execute_result",
          "data": {
            "text/plain": [
              "party            2\n",
              "hc-infants       3\n",
              "water-proj       3\n",
              "budget-reso      3\n",
              "fee-freeze       3\n",
              "salvador-aid     3\n",
              "relig-groups     3\n",
              "anti-satell      3\n",
              "nicar-contras    3\n",
              "mx-missile       3\n",
              "immigration      3\n",
              "syn-cutback      3\n",
              "edu-spending     3\n",
              "right-to-sue     3\n",
              "crime            3\n",
              "dutyfree-expo    3\n",
              "admin-act-sou    3\n",
              "dtype: int64"
            ]
          },
          "metadata": {},
          "execution_count": 24
        }
      ]
    },
    {
      "cell_type": "code",
      "source": [
        "# Return unique values for target variable\n",
        "votes['party'].unique()"
      ],
      "metadata": {
        "id": "h9Ou8gd9tVeS",
        "outputId": "f71e8021-829e-4c3f-ce27-3b1ce75f7702",
        "colab": {
          "base_uri": "https://localhost:8080/"
        }
      },
      "execution_count": 19,
      "outputs": [
        {
          "output_type": "execute_result",
          "data": {
            "text/plain": [
              "array(['republican', 'democrat'], dtype=object)"
            ]
          },
          "metadata": {},
          "execution_count": 19
        }
      ]
    },
    {
      "cell_type": "code",
      "source": [
        "# Return unique values from one feature variable\n",
        "votes['hc-infants'].unique()"
      ],
      "metadata": {
        "id": "5XgX_Sx5ucS4",
        "outputId": "af7e0043-d575-4d46-b1d1-27e25520e770",
        "colab": {
          "base_uri": "https://localhost:8080/"
        }
      },
      "execution_count": 26,
      "outputs": [
        {
          "output_type": "execute_result",
          "data": {
            "text/plain": [
              "array(['n', '?', 'y'], dtype=object)"
            ]
          },
          "metadata": {},
          "execution_count": 26
        }
      ]
    },
    {
      "cell_type": "code",
      "source": [
        "votes['party'].value_counts(dropna=False)"
      ],
      "metadata": {
        "id": "316HsezV2UwH",
        "outputId": "5155a55c-491f-4227-f98e-93693beea2d6",
        "colab": {
          "base_uri": "https://localhost:8080/"
        }
      },
      "execution_count": 31,
      "outputs": [
        {
          "output_type": "execute_result",
          "data": {
            "text/plain": [
              "democrat      267\n",
              "republican    168\n",
              "Name: party, dtype: int64"
            ]
          },
          "metadata": {},
          "execution_count": 31
        }
      ]
    },
    {
      "cell_type": "code",
      "source": [
        "votes['party'].value_counts(normalize=True)"
      ],
      "metadata": {
        "id": "qeaR18P52wQg",
        "outputId": "19a09198-0827-4cd6-aba6-3d8bcfe37986",
        "colab": {
          "base_uri": "https://localhost:8080/"
        }
      },
      "execution_count": 33,
      "outputs": [
        {
          "output_type": "execute_result",
          "data": {
            "text/plain": [
              "democrat      0.613793\n",
              "republican    0.386207\n",
              "Name: party, dtype: float64"
            ]
          },
          "metadata": {},
          "execution_count": 33
        }
      ]
    },
    {
      "cell_type": "code",
      "source": [
        "fig = px.pie(votes, \"party\", title = \"Rep vs Dem Count\")\n",
        "fig.show()"
      ],
      "metadata": {
        "id": "iz6cokLn8Ejy",
        "outputId": "bb00e5a4-426b-4f2d-f86c-8f36ced2e0c9",
        "colab": {
          "base_uri": "https://localhost:8080/",
          "height": 542
        }
      },
      "execution_count": 53,
      "outputs": [
        {
          "output_type": "display_data",
          "data": {
            "text/html": [
              "<html>\n",
              "<head><meta charset=\"utf-8\" /></head>\n",
              "<body>\n",
              "    <div>\n",
              "            <script src=\"https://cdnjs.cloudflare.com/ajax/libs/mathjax/2.7.5/MathJax.js?config=TeX-AMS-MML_SVG\"></script><script type=\"text/javascript\">if (window.MathJax) {MathJax.Hub.Config({SVG: {font: \"STIX-Web\"}});}</script>\n",
              "                <script type=\"text/javascript\">window.PlotlyConfig = {MathJaxConfig: 'local'};</script>\n",
              "        <script src=\"https://cdn.plot.ly/plotly-latest.min.js\"></script>    \n",
              "            <div id=\"abd8c343-5169-464c-889c-148561eea03c\" class=\"plotly-graph-div\" style=\"height:525px; width:100%;\"></div>\n",
              "            <script type=\"text/javascript\">\n",
              "                \n",
              "                    window.PLOTLYENV=window.PLOTLYENV || {};\n",
              "                    \n",
              "                if (document.getElementById(\"abd8c343-5169-464c-889c-148561eea03c\")) {\n",
              "                    Plotly.newPlot(\n",
              "                        'abd8c343-5169-464c-889c-148561eea03c',\n",
              "                        [{\"domain\": {\"x\": [0.0, 1.0], \"y\": [0.0, 1.0]}, \"hoverlabel\": {\"namelength\": 0}, \"hovertemplate\": \"party=%{label}\", \"labels\": [\"republican\", \"republican\", \"democrat\", \"democrat\", \"democrat\", \"democrat\", \"democrat\", \"republican\", \"republican\", \"democrat\", \"republican\", \"republican\", \"democrat\", \"democrat\", \"republican\", \"republican\", \"democrat\", \"democrat\", \"republican\", \"democrat\", \"democrat\", \"democrat\", \"democrat\", \"democrat\", \"democrat\", \"democrat\", \"democrat\", \"democrat\", \"republican\", \"democrat\", \"republican\", \"democrat\", \"democrat\", \"republican\", \"democrat\", \"republican\", \"republican\", \"republican\", \"republican\", \"democrat\", \"democrat\", \"democrat\", \"democrat\", \"democrat\", \"democrat\", \"democrat\", \"democrat\", \"democrat\", \"democrat\", \"republican\", \"democrat\", \"republican\", \"democrat\", \"republican\", \"democrat\", \"republican\", \"republican\", \"republican\", \"republican\", \"republican\", \"democrat\", \"republican\", \"democrat\", \"democrat\", \"democrat\", \"republican\", \"republican\", \"republican\", \"democrat\", \"democrat\", \"democrat\", \"republican\", \"democrat\", \"republican\", \"democrat\", \"democrat\", \"democrat\", \"democrat\", \"democrat\", \"republican\", \"democrat\", \"democrat\", \"republican\", \"republican\", \"republican\", \"democrat\", \"republican\", \"republican\", \"democrat\", \"republican\", \"democrat\", \"democrat\", \"democrat\", \"democrat\", \"democrat\", \"democrat\", \"democrat\", \"democrat\", \"democrat\", \"republican\", \"democrat\", \"democrat\", \"democrat\", \"democrat\", \"democrat\", \"democrat\", \"republican\", \"republican\", \"democrat\", \"democrat\", \"democrat\", \"republican\", \"democrat\", \"republican\", \"democrat\", \"democrat\", \"democrat\", \"republican\", \"democrat\", \"republican\", \"republican\", \"republican\", \"republican\", \"republican\", \"democrat\", \"republican\", \"republican\", \"democrat\", \"democrat\", \"democrat\", \"democrat\", \"democrat\", \"republican\", \"republican\", \"republican\", \"republican\", \"republican\", \"democrat\", \"democrat\", \"democrat\", \"republican\", \"republican\", \"republican\", \"democrat\", \"democrat\", \"democrat\", \"republican\", \"democrat\", \"republican\", \"democrat\", \"republican\", \"democrat\", \"democrat\", \"democrat\", \"republican\", \"republican\", \"republican\", \"democrat\", \"republican\", \"democrat\", \"democrat\", \"democrat\", \"democrat\", \"republican\", \"democrat\", \"democrat\", \"republican\", \"republican\", \"democrat\", \"democrat\", \"democrat\", \"republican\", \"democrat\", \"democrat\", \"democrat\", \"democrat\", \"republican\", \"democrat\", \"democrat\", \"democrat\", \"democrat\", \"democrat\", \"democrat\", \"democrat\", \"democrat\", \"democrat\", \"democrat\", \"democrat\", \"republican\", \"democrat\", \"republican\", \"republican\", \"democrat\", \"democrat\", \"democrat\", \"republican\", \"democrat\", \"republican\", \"democrat\", \"democrat\", \"democrat\", \"democrat\", \"democrat\", \"democrat\", \"republican\", \"democrat\", \"republican\", \"republican\", \"democrat\", \"democrat\", \"democrat\", \"republican\", \"democrat\", \"democrat\", \"republican\", \"democrat\", \"democrat\", \"republican\", \"democrat\", \"democrat\", \"democrat\", \"democrat\", \"democrat\", \"republican\", \"republican\", \"republican\", \"democrat\", \"democrat\", \"republican\", \"republican\", \"republican\", \"republican\", \"democrat\", \"republican\", \"democrat\", \"republican\", \"democrat\", \"democrat\", \"democrat\", \"republican\", \"republican\", \"democrat\", \"republican\", \"democrat\", \"democrat\", \"democrat\", \"democrat\", \"republican\", \"republican\", \"democrat\", \"republican\", \"republican\", \"democrat\", \"republican\", \"democrat\", \"democrat\", \"republican\", \"republican\", \"democrat\", \"democrat\", \"democrat\", \"democrat\", \"democrat\", \"democrat\", \"democrat\", \"democrat\", \"republican\", \"republican\", \"democrat\", \"democrat\", \"democrat\", \"democrat\", \"democrat\", \"republican\", \"republican\", \"democrat\", \"republican\", \"republican\", \"republican\", \"republican\", \"democrat\", \"republican\", \"republican\", \"republican\", \"democrat\", \"democrat\", \"democrat\", \"democrat\", \"democrat\", \"democrat\", \"democrat\", \"democrat\", \"democrat\", \"democrat\", \"democrat\", \"republican\", \"republican\", \"democrat\", \"democrat\", \"democrat\", \"republican\", \"democrat\", \"republican\", \"republican\", \"republican\", \"republican\", \"republican\", \"democrat\", \"republican\", \"democrat\", \"republican\", \"democrat\", \"democrat\", \"republican\", \"republican\", \"republican\", \"democrat\", \"democrat\", \"democrat\", \"democrat\", \"democrat\", \"democrat\", \"democrat\", \"democrat\", \"republican\", \"democrat\", \"democrat\", \"republican\", \"democrat\", \"democrat\", \"republican\", \"democrat\", \"democrat\", \"democrat\", \"democrat\", \"republican\", \"democrat\", \"democrat\", \"democrat\", \"republican\", \"republican\", \"democrat\", \"democrat\", \"republican\", \"democrat\", \"republican\", \"republican\", \"republican\", \"democrat\", \"republican\", \"democrat\", \"republican\", \"democrat\", \"republican\", \"democrat\", \"republican\", \"republican\", \"republican\", \"democrat\", \"republican\", \"democrat\", \"democrat\", \"democrat\", \"republican\", \"republican\", \"democrat\", \"democrat\", \"democrat\", \"democrat\", \"republican\", \"democrat\", \"democrat\", \"democrat\", \"democrat\", \"republican\", \"democrat\", \"democrat\", \"republican\", \"republican\", \"republican\", \"democrat\", \"democrat\", \"democrat\", \"democrat\", \"democrat\", \"democrat\", \"democrat\", \"democrat\", \"democrat\", \"democrat\", \"democrat\", \"democrat\", \"republican\", \"republican\", \"democrat\", \"democrat\", \"democrat\", \"democrat\", \"democrat\", \"republican\", \"republican\", \"republican\", \"republican\", \"republican\", \"republican\", \"republican\", \"democrat\", \"democrat\", \"democrat\", \"republican\", \"republican\", \"democrat\", \"republican\", \"republican\", \"democrat\", \"democrat\", \"republican\", \"democrat\", \"democrat\", \"democrat\", \"republican\", \"democrat\", \"democrat\", \"democrat\", \"democrat\", \"democrat\", \"democrat\", \"republican\", \"democrat\", \"democrat\", \"republican\", \"democrat\", \"republican\", \"republican\", \"republican\"], \"legendgroup\": \"\", \"name\": \"\", \"showlegend\": true, \"type\": \"pie\"}],\n",
              "                        {\"legend\": {\"tracegroupgap\": 0}, \"template\": {\"data\": {\"bar\": [{\"error_x\": {\"color\": \"#2a3f5f\"}, \"error_y\": {\"color\": \"#2a3f5f\"}, \"marker\": {\"line\": {\"color\": \"#E5ECF6\", \"width\": 0.5}}, \"type\": \"bar\"}], \"barpolar\": [{\"marker\": {\"line\": {\"color\": \"#E5ECF6\", \"width\": 0.5}}, \"type\": \"barpolar\"}], \"carpet\": [{\"aaxis\": {\"endlinecolor\": \"#2a3f5f\", \"gridcolor\": \"white\", \"linecolor\": \"white\", \"minorgridcolor\": \"white\", \"startlinecolor\": \"#2a3f5f\"}, \"baxis\": {\"endlinecolor\": \"#2a3f5f\", \"gridcolor\": \"white\", \"linecolor\": \"white\", \"minorgridcolor\": \"white\", \"startlinecolor\": \"#2a3f5f\"}, \"type\": \"carpet\"}], \"choropleth\": [{\"colorbar\": {\"outlinewidth\": 0, \"ticks\": \"\"}, \"type\": \"choropleth\"}], \"contour\": [{\"colorbar\": {\"outlinewidth\": 0, \"ticks\": \"\"}, \"colorscale\": [[0.0, \"#0d0887\"], [0.1111111111111111, \"#46039f\"], [0.2222222222222222, \"#7201a8\"], [0.3333333333333333, \"#9c179e\"], [0.4444444444444444, \"#bd3786\"], [0.5555555555555556, \"#d8576b\"], [0.6666666666666666, \"#ed7953\"], [0.7777777777777778, \"#fb9f3a\"], [0.8888888888888888, \"#fdca26\"], [1.0, \"#f0f921\"]], \"type\": \"contour\"}], \"contourcarpet\": [{\"colorbar\": {\"outlinewidth\": 0, \"ticks\": \"\"}, \"type\": \"contourcarpet\"}], \"heatmap\": [{\"colorbar\": {\"outlinewidth\": 0, \"ticks\": \"\"}, \"colorscale\": [[0.0, \"#0d0887\"], [0.1111111111111111, \"#46039f\"], [0.2222222222222222, \"#7201a8\"], [0.3333333333333333, \"#9c179e\"], [0.4444444444444444, \"#bd3786\"], [0.5555555555555556, \"#d8576b\"], [0.6666666666666666, \"#ed7953\"], [0.7777777777777778, \"#fb9f3a\"], [0.8888888888888888, \"#fdca26\"], [1.0, \"#f0f921\"]], \"type\": \"heatmap\"}], \"heatmapgl\": [{\"colorbar\": {\"outlinewidth\": 0, \"ticks\": \"\"}, \"colorscale\": [[0.0, \"#0d0887\"], [0.1111111111111111, \"#46039f\"], [0.2222222222222222, \"#7201a8\"], [0.3333333333333333, \"#9c179e\"], [0.4444444444444444, \"#bd3786\"], [0.5555555555555556, \"#d8576b\"], [0.6666666666666666, \"#ed7953\"], [0.7777777777777778, \"#fb9f3a\"], [0.8888888888888888, \"#fdca26\"], [1.0, \"#f0f921\"]], \"type\": \"heatmapgl\"}], \"histogram\": [{\"marker\": {\"colorbar\": {\"outlinewidth\": 0, \"ticks\": \"\"}}, \"type\": \"histogram\"}], \"histogram2d\": [{\"colorbar\": {\"outlinewidth\": 0, \"ticks\": \"\"}, \"colorscale\": [[0.0, \"#0d0887\"], [0.1111111111111111, \"#46039f\"], [0.2222222222222222, \"#7201a8\"], [0.3333333333333333, \"#9c179e\"], [0.4444444444444444, \"#bd3786\"], [0.5555555555555556, \"#d8576b\"], [0.6666666666666666, \"#ed7953\"], [0.7777777777777778, \"#fb9f3a\"], [0.8888888888888888, \"#fdca26\"], [1.0, \"#f0f921\"]], \"type\": \"histogram2d\"}], \"histogram2dcontour\": [{\"colorbar\": {\"outlinewidth\": 0, \"ticks\": \"\"}, \"colorscale\": [[0.0, \"#0d0887\"], [0.1111111111111111, \"#46039f\"], [0.2222222222222222, \"#7201a8\"], [0.3333333333333333, \"#9c179e\"], [0.4444444444444444, \"#bd3786\"], [0.5555555555555556, \"#d8576b\"], [0.6666666666666666, \"#ed7953\"], [0.7777777777777778, \"#fb9f3a\"], [0.8888888888888888, \"#fdca26\"], [1.0, \"#f0f921\"]], \"type\": \"histogram2dcontour\"}], \"mesh3d\": [{\"colorbar\": {\"outlinewidth\": 0, \"ticks\": \"\"}, \"type\": \"mesh3d\"}], \"parcoords\": [{\"line\": {\"colorbar\": {\"outlinewidth\": 0, \"ticks\": \"\"}}, \"type\": \"parcoords\"}], \"pie\": [{\"automargin\": true, \"type\": \"pie\"}], \"scatter\": [{\"marker\": {\"colorbar\": {\"outlinewidth\": 0, \"ticks\": \"\"}}, \"type\": \"scatter\"}], \"scatter3d\": [{\"line\": {\"colorbar\": {\"outlinewidth\": 0, \"ticks\": \"\"}}, \"marker\": {\"colorbar\": {\"outlinewidth\": 0, \"ticks\": \"\"}}, \"type\": \"scatter3d\"}], \"scattercarpet\": [{\"marker\": {\"colorbar\": {\"outlinewidth\": 0, \"ticks\": \"\"}}, \"type\": \"scattercarpet\"}], \"scattergeo\": [{\"marker\": {\"colorbar\": {\"outlinewidth\": 0, \"ticks\": \"\"}}, \"type\": \"scattergeo\"}], \"scattergl\": [{\"marker\": {\"colorbar\": {\"outlinewidth\": 0, \"ticks\": \"\"}}, \"type\": \"scattergl\"}], \"scattermapbox\": [{\"marker\": {\"colorbar\": {\"outlinewidth\": 0, \"ticks\": \"\"}}, \"type\": \"scattermapbox\"}], \"scatterpolar\": [{\"marker\": {\"colorbar\": {\"outlinewidth\": 0, \"ticks\": \"\"}}, \"type\": \"scatterpolar\"}], \"scatterpolargl\": [{\"marker\": {\"colorbar\": {\"outlinewidth\": 0, \"ticks\": \"\"}}, \"type\": \"scatterpolargl\"}], \"scatterternary\": [{\"marker\": {\"colorbar\": {\"outlinewidth\": 0, \"ticks\": \"\"}}, \"type\": \"scatterternary\"}], \"surface\": [{\"colorbar\": {\"outlinewidth\": 0, \"ticks\": \"\"}, \"colorscale\": [[0.0, \"#0d0887\"], [0.1111111111111111, \"#46039f\"], [0.2222222222222222, \"#7201a8\"], [0.3333333333333333, \"#9c179e\"], [0.4444444444444444, \"#bd3786\"], [0.5555555555555556, \"#d8576b\"], [0.6666666666666666, \"#ed7953\"], [0.7777777777777778, \"#fb9f3a\"], [0.8888888888888888, \"#fdca26\"], [1.0, \"#f0f921\"]], \"type\": \"surface\"}], \"table\": [{\"cells\": {\"fill\": {\"color\": \"#EBF0F8\"}, \"line\": {\"color\": \"white\"}}, \"header\": {\"fill\": {\"color\": \"#C8D4E3\"}, \"line\": {\"color\": \"white\"}}, \"type\": \"table\"}]}, \"layout\": {\"annotationdefaults\": {\"arrowcolor\": \"#2a3f5f\", \"arrowhead\": 0, \"arrowwidth\": 1}, \"coloraxis\": {\"colorbar\": {\"outlinewidth\": 0, \"ticks\": \"\"}}, \"colorscale\": {\"diverging\": [[0, \"#8e0152\"], [0.1, \"#c51b7d\"], [0.2, \"#de77ae\"], [0.3, \"#f1b6da\"], [0.4, \"#fde0ef\"], [0.5, \"#f7f7f7\"], [0.6, \"#e6f5d0\"], [0.7, \"#b8e186\"], [0.8, \"#7fbc41\"], [0.9, \"#4d9221\"], [1, \"#276419\"]], \"sequential\": [[0.0, \"#0d0887\"], [0.1111111111111111, \"#46039f\"], [0.2222222222222222, \"#7201a8\"], [0.3333333333333333, \"#9c179e\"], [0.4444444444444444, \"#bd3786\"], [0.5555555555555556, \"#d8576b\"], [0.6666666666666666, \"#ed7953\"], [0.7777777777777778, \"#fb9f3a\"], [0.8888888888888888, \"#fdca26\"], [1.0, \"#f0f921\"]], \"sequentialminus\": [[0.0, \"#0d0887\"], [0.1111111111111111, \"#46039f\"], [0.2222222222222222, \"#7201a8\"], [0.3333333333333333, \"#9c179e\"], [0.4444444444444444, \"#bd3786\"], [0.5555555555555556, \"#d8576b\"], [0.6666666666666666, \"#ed7953\"], [0.7777777777777778, \"#fb9f3a\"], [0.8888888888888888, \"#fdca26\"], [1.0, \"#f0f921\"]]}, \"colorway\": [\"#636efa\", \"#EF553B\", \"#00cc96\", \"#ab63fa\", \"#FFA15A\", \"#19d3f3\", \"#FF6692\", \"#B6E880\", \"#FF97FF\", \"#FECB52\"], \"font\": {\"color\": \"#2a3f5f\"}, \"geo\": {\"bgcolor\": \"white\", \"lakecolor\": \"white\", \"landcolor\": \"#E5ECF6\", \"showlakes\": true, \"showland\": true, \"subunitcolor\": \"white\"}, \"hoverlabel\": {\"align\": \"left\"}, \"hovermode\": \"closest\", \"mapbox\": {\"style\": \"light\"}, \"paper_bgcolor\": \"white\", \"plot_bgcolor\": \"#E5ECF6\", \"polar\": {\"angularaxis\": {\"gridcolor\": \"white\", \"linecolor\": \"white\", \"ticks\": \"\"}, \"bgcolor\": \"#E5ECF6\", \"radialaxis\": {\"gridcolor\": \"white\", \"linecolor\": \"white\", \"ticks\": \"\"}}, \"scene\": {\"xaxis\": {\"backgroundcolor\": \"#E5ECF6\", \"gridcolor\": \"white\", \"gridwidth\": 2, \"linecolor\": \"white\", \"showbackground\": true, \"ticks\": \"\", \"zerolinecolor\": \"white\"}, \"yaxis\": {\"backgroundcolor\": \"#E5ECF6\", \"gridcolor\": \"white\", \"gridwidth\": 2, \"linecolor\": \"white\", \"showbackground\": true, \"ticks\": \"\", \"zerolinecolor\": \"white\"}, \"zaxis\": {\"backgroundcolor\": \"#E5ECF6\", \"gridcolor\": \"white\", \"gridwidth\": 2, \"linecolor\": \"white\", \"showbackground\": true, \"ticks\": \"\", \"zerolinecolor\": \"white\"}}, \"shapedefaults\": {\"line\": {\"color\": \"#2a3f5f\"}}, \"ternary\": {\"aaxis\": {\"gridcolor\": \"white\", \"linecolor\": \"white\", \"ticks\": \"\"}, \"baxis\": {\"gridcolor\": \"white\", \"linecolor\": \"white\", \"ticks\": \"\"}, \"bgcolor\": \"#E5ECF6\", \"caxis\": {\"gridcolor\": \"white\", \"linecolor\": \"white\", \"ticks\": \"\"}}, \"title\": {\"x\": 0.05}, \"xaxis\": {\"automargin\": true, \"gridcolor\": \"white\", \"linecolor\": \"white\", \"ticks\": \"\", \"title\": {\"standoff\": 15}, \"zerolinecolor\": \"white\", \"zerolinewidth\": 2}, \"yaxis\": {\"automargin\": true, \"gridcolor\": \"white\", \"linecolor\": \"white\", \"ticks\": \"\", \"title\": {\"standoff\": 15}, \"zerolinecolor\": \"white\", \"zerolinewidth\": 2}}}, \"title\": {\"text\": \"Rep vs Dem Count\"}},\n",
              "                        {\"responsive\": true}\n",
              "                    ).then(function(){\n",
              "                            \n",
              "var gd = document.getElementById('abd8c343-5169-464c-889c-148561eea03c');\n",
              "var x = new MutationObserver(function (mutations, observer) {{\n",
              "        var display = window.getComputedStyle(gd).display;\n",
              "        if (!display || display === 'none') {{\n",
              "            console.log([gd, 'removed!']);\n",
              "            Plotly.purge(gd);\n",
              "            observer.disconnect();\n",
              "        }}\n",
              "}});\n",
              "\n",
              "// Listen for the removal of the full notebook cells\n",
              "var notebookContainer = gd.closest('#notebook-container');\n",
              "if (notebookContainer) {{\n",
              "    x.observe(notebookContainer, {childList: true});\n",
              "}}\n",
              "\n",
              "// Listen for the clearing of the current output cell\n",
              "var outputEl = gd.closest('.output');\n",
              "if (outputEl) {{\n",
              "    x.observe(outputEl, {childList: true});\n",
              "}}\n",
              "\n",
              "                        })\n",
              "                };\n",
              "                \n",
              "            </script>\n",
              "        </div>\n",
              "</body>\n",
              "</html>"
            ]
          },
          "metadata": {}
        }
      ]
    },
    {
      "cell_type": "markdown",
      "source": [
        "### Datset Details"
      ],
      "metadata": {
        "id": "8CDGBLtysuks"
      }
    },
    {
      "cell_type": "markdown",
      "source": [
        "* **17** columns \n",
        "* **1** target variable\n",
        "* **16** features\n",
        "* **435** records\n",
        "* No **NULL** values\n",
        "* All of **object** datatype\n",
        "* Target variable consists of two entries: **republican** and **democrat**\n",
        "* Feature variables consist of three entries: **y**, **n** and **?**\n",
        "* The **?** represents values that are neither yes or no.\n",
        "* More Democrats (**61%**) than Republicans (**39%**) in the dataset."
      ],
      "metadata": {
        "id": "wzEw5cMNvpsp"
      }
    },
    {
      "cell_type": "markdown",
      "source": [
        "## Data Cleaning"
      ],
      "metadata": {
        "id": "6nAUaRnhvM9C"
      }
    },
    {
      "cell_type": "markdown",
      "source": [
        "Let's first convert our feature variables to a numerical type. We'll need this if we run a k-nearest neighbours (KNN) algorithm."
      ],
      "metadata": {
        "id": "i19Y1zCmvPr7"
      }
    },
    {
      "cell_type": "code",
      "metadata": {
        "id": "YhJRwxMp8Gxc"
      },
      "source": [
        "# Replace the **y** and **n** with numerical values\n",
        "votes.replace({\"y\" : 0 ,\"n\" : 1}, inplace = True)"
      ],
      "execution_count": 27,
      "outputs": []
    },
    {
      "cell_type": "markdown",
      "source": [
        "There are a few ways we could deal with our **?** values:\n",
        "\n",
        "1. Remove rows with ? values\n",
        "1. Remove columns with ? values\n",
        "1. Replace ? values with something\n",
        "\n",
        "We don't want to remove columns as this would remove almost all the features. Replacing could be an option. However, the simplest option would be to remove records containing ?. \n",
        "\n",
        "Let's see how many records we have remaining after removing records containing ?."
      ],
      "metadata": {
        "id": "7vdz8psYDPMM"
      }
    },
    {
      "cell_type": "code",
      "source": [
        "# Remvoing NA rows\n",
        "votes.replace('?', np.NaN).dropna()['party'].value_counts()"
      ],
      "metadata": {
        "id": "AFUrk0y0D_Rd",
        "outputId": "a7908e91-23c0-42e3-a5e1-dbb6b90813a9",
        "colab": {
          "base_uri": "https://localhost:8080/"
        }
      },
      "execution_count": 73,
      "outputs": [
        {
          "output_type": "execute_result",
          "data": {
            "text/plain": [
              "democrat      124\n",
              "republican    108\n",
              "Name: party, dtype: int64"
            ]
          },
          "metadata": {},
          "execution_count": 73
        }
      ]
    },
    {
      "cell_type": "markdown",
      "source": [
        "It can be seen that we have significantly fewer records using this approach. The best approach therefore would be to replace the ? values with something."
      ],
      "metadata": {
        "id": "xYDuqWxzFTi4"
      }
    },
    {
      "cell_type": "code",
      "source": [
        "votes.head()"
      ],
      "metadata": {
        "id": "fGGuh4E9r50I",
        "outputId": "449c195f-a161-455d-f308-227282351d71",
        "colab": {
          "base_uri": "https://localhost:8080/",
          "height": 238
        }
      },
      "execution_count": 9,
      "outputs": [
        {
          "output_type": "execute_result",
          "data": {
            "text/html": [
              "<div>\n",
              "<style scoped>\n",
              "    .dataframe tbody tr th:only-of-type {\n",
              "        vertical-align: middle;\n",
              "    }\n",
              "\n",
              "    .dataframe tbody tr th {\n",
              "        vertical-align: top;\n",
              "    }\n",
              "\n",
              "    .dataframe thead th {\n",
              "        text-align: right;\n",
              "    }\n",
              "</style>\n",
              "<table border=\"1\" class=\"dataframe\">\n",
              "  <thead>\n",
              "    <tr style=\"text-align: right;\">\n",
              "      <th></th>\n",
              "      <th>party</th>\n",
              "      <th>hc-infants</th>\n",
              "      <th>water-proj</th>\n",
              "      <th>budget-reso</th>\n",
              "      <th>fee-freeze</th>\n",
              "      <th>salvador-aid</th>\n",
              "      <th>relig-groups</th>\n",
              "      <th>anti-satell</th>\n",
              "      <th>nicar-contras</th>\n",
              "      <th>mx-missile</th>\n",
              "      <th>immigration</th>\n",
              "      <th>syn-cutback</th>\n",
              "      <th>edu-spending</th>\n",
              "      <th>right-to-sue</th>\n",
              "      <th>crime</th>\n",
              "      <th>dutyfree-expo</th>\n",
              "      <th>admin-act-sou</th>\n",
              "    </tr>\n",
              "  </thead>\n",
              "  <tbody>\n",
              "    <tr>\n",
              "      <th>0</th>\n",
              "      <td>republican</td>\n",
              "      <td>1</td>\n",
              "      <td>0</td>\n",
              "      <td>1</td>\n",
              "      <td>0</td>\n",
              "      <td>0</td>\n",
              "      <td>0</td>\n",
              "      <td>1</td>\n",
              "      <td>1</td>\n",
              "      <td>1</td>\n",
              "      <td>0</td>\n",
              "      <td>?</td>\n",
              "      <td>0</td>\n",
              "      <td>0</td>\n",
              "      <td>0</td>\n",
              "      <td>1</td>\n",
              "      <td>0</td>\n",
              "    </tr>\n",
              "    <tr>\n",
              "      <th>1</th>\n",
              "      <td>republican</td>\n",
              "      <td>1</td>\n",
              "      <td>0</td>\n",
              "      <td>1</td>\n",
              "      <td>0</td>\n",
              "      <td>0</td>\n",
              "      <td>0</td>\n",
              "      <td>1</td>\n",
              "      <td>1</td>\n",
              "      <td>1</td>\n",
              "      <td>1</td>\n",
              "      <td>1</td>\n",
              "      <td>0</td>\n",
              "      <td>0</td>\n",
              "      <td>0</td>\n",
              "      <td>1</td>\n",
              "      <td>?</td>\n",
              "    </tr>\n",
              "    <tr>\n",
              "      <th>2</th>\n",
              "      <td>democrat</td>\n",
              "      <td>?</td>\n",
              "      <td>0</td>\n",
              "      <td>0</td>\n",
              "      <td>?</td>\n",
              "      <td>0</td>\n",
              "      <td>0</td>\n",
              "      <td>1</td>\n",
              "      <td>1</td>\n",
              "      <td>1</td>\n",
              "      <td>1</td>\n",
              "      <td>0</td>\n",
              "      <td>1</td>\n",
              "      <td>0</td>\n",
              "      <td>0</td>\n",
              "      <td>1</td>\n",
              "      <td>1</td>\n",
              "    </tr>\n",
              "    <tr>\n",
              "      <th>3</th>\n",
              "      <td>democrat</td>\n",
              "      <td>1</td>\n",
              "      <td>0</td>\n",
              "      <td>0</td>\n",
              "      <td>1</td>\n",
              "      <td>?</td>\n",
              "      <td>0</td>\n",
              "      <td>1</td>\n",
              "      <td>1</td>\n",
              "      <td>1</td>\n",
              "      <td>1</td>\n",
              "      <td>0</td>\n",
              "      <td>1</td>\n",
              "      <td>0</td>\n",
              "      <td>1</td>\n",
              "      <td>1</td>\n",
              "      <td>0</td>\n",
              "    </tr>\n",
              "    <tr>\n",
              "      <th>4</th>\n",
              "      <td>democrat</td>\n",
              "      <td>0</td>\n",
              "      <td>0</td>\n",
              "      <td>0</td>\n",
              "      <td>1</td>\n",
              "      <td>0</td>\n",
              "      <td>0</td>\n",
              "      <td>1</td>\n",
              "      <td>1</td>\n",
              "      <td>1</td>\n",
              "      <td>1</td>\n",
              "      <td>0</td>\n",
              "      <td>?</td>\n",
              "      <td>0</td>\n",
              "      <td>0</td>\n",
              "      <td>0</td>\n",
              "      <td>0</td>\n",
              "    </tr>\n",
              "  </tbody>\n",
              "</table>\n",
              "</div>"
            ],
            "text/plain": [
              "        party hc-infants water-proj  ... crime dutyfree-expo admin-act-sou\n",
              "0  republican          1          0  ...     0             1             0\n",
              "1  republican          1          0  ...     0             1             ?\n",
              "2    democrat          ?          0  ...     0             1             1\n",
              "3    democrat          1          0  ...     1             1             0\n",
              "4    democrat          0          0  ...     0             0             0\n",
              "\n",
              "[5 rows x 17 columns]"
            ]
          },
          "metadata": {},
          "execution_count": 9
        }
      ]
    },
    {
      "cell_type": "code",
      "source": [
        ""
      ],
      "metadata": {
        "id": "BP6T67j-sC_P"
      },
      "execution_count": null,
      "outputs": []
    }
  ]
}