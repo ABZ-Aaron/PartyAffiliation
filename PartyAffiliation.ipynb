{
  "nbformat": 4,
  "nbformat_minor": 0,
  "metadata": {
    "colab": {
      "name": "Assessment2.ipynb",
      "provenance": [],
      "collapsed_sections": [],
      "authorship_tag": "ABX9TyMEPEgVEFDf8IZk9AzeNQTl",
      "include_colab_link": true
    },
    "kernelspec": {
      "name": "python3",
      "display_name": "Python 3"
    },
    "language_info": {
      "name": "python"
    }
  },
  "cells": [
    {
      "cell_type": "markdown",
      "metadata": {
        "id": "view-in-github",
        "colab_type": "text"
      },
      "source": [
        "<a href=\"https://colab.research.google.com/github/ABZ-Aaron/PartyAffiliation/blob/master/PartyAffiliation.ipynb\" target=\"_parent\"><img src=\"https://colab.research.google.com/assets/colab-badge.svg\" alt=\"Open In Colab\"/></a>"
      ]
    },
    {
      "cell_type": "markdown",
      "metadata": {
        "id": "Bl72j8shAbSb"
      },
      "source": [
        "# Party Affiliation in the United States\n",
        "#### By Aaron Wright - 1912626\n",
        "---"
      ]
    },
    {
      "cell_type": "markdown",
      "metadata": {
        "id": "Ax0osJd3LCmj"
      },
      "source": [
        "The purpose of this analysis is two implement 2 distinct AI algorithms on a selected dataset.\n",
        "\n",
        "The dataset in question is the ***Congressional Voting Records Data Set*** taken from the [UCI Machine Learning Repository]('https://archive.ics.uci.edu/ml/datasets/Congressional+Voting+Records'). Throughout this report I will apply classification techniques to help assess voting habits, and predict whether an indvidiual votes **Democrat** or **Republican**."
      ]
    },
    {
      "cell_type": "markdown",
      "metadata": {
        "id": "9dgXAoqFK5_0"
      },
      "source": [
        "## Introduction"
      ]
    },
    {
      "cell_type": "markdown",
      "metadata": {
        "id": "_fcUT8jRK_Hf"
      },
      "source": [
        "Introduction: The introduction should clearly identify the problem which you are aiming to resolve and why AI is suitable for this task. Additionally, you should introduce the dataset you will use for your experiments. Make sure to discuss the task, features and labels of the dataset in an appropriate level of detail. (Maximum of 400 words).  \n",
        "\n"
      ]
    },
    {
      "cell_type": "markdown",
      "metadata": {
        "id": "XOy7g8pWLg_z"
      },
      "source": [
        "## Description"
      ]
    },
    {
      "cell_type": "markdown",
      "metadata": {
        "id": "zwCqqIUGLi9J"
      },
      "source": [
        "Description of AI Algorithms: In this section you should evidence your theoretical understanding by describing the two AI algorithms which you plan to compare. You should pay particular attention to the strengths and weaknesses of each algorithm to highlight why it is suitable for use on this specific dataset. (Maximum of 500 words)."
      ]
    },
    {
      "cell_type": "markdown",
      "metadata": {
        "id": "sJg22h_cLjCv"
      },
      "source": [
        "## Results & Discussion"
      ]
    },
    {
      "cell_type": "markdown",
      "metadata": {
        "id": "f9WM-HSbLjFI"
      },
      "source": [
        "Results of Experiment and Discussion: The results section should analyse the outcomes of the experiment to identify the best performing AI algorithm. Performance metrics visualised using graphs or tables are very much encouraged. The hypothesis for why this algorithm performed best on this particular dataset should be discussed. Future work should be described with the aim of bringing the developed AI system to a standard which could be applied in the real world. (Maximum of 500 words)."
      ]
    },
    {
      "cell_type": "markdown",
      "metadata": {
        "id": "B7p1SfHwLjHv"
      },
      "source": [
        "## References"
      ]
    },
    {
      "cell_type": "markdown",
      "metadata": {
        "id": "KmVaHiKVLyI6"
      },
      "source": [
        ""
      ]
    },
    {
      "cell_type": "code",
      "metadata": {
        "id": "6BzBJNaj8ELi"
      },
      "source": [
        "import pandas as pd\n",
        "\n",
        "import io\n",
        "\n",
        "from google.colab import files"
      ],
      "execution_count": null,
      "outputs": []
    },
    {
      "cell_type": "code",
      "metadata": {
        "id": "U950Jhw79zPp"
      },
      "source": [
        "# Take data from Github repository \n",
        "data = 'https://raw.githubusercontent.com/ABZ-Aaron/PartyAffiliation/master/votes_data.csv?token=AND25LFLHJXHZZMCYHIFOMTBVQHBE'\n",
        "\n",
        "# Column names\n",
        "cols = [\"party\", \n",
        "        \"hc-infants\", \n",
        "        \"water-proj\", \n",
        "        \"budget-reso\", \n",
        "        \"fee-freeze\", \n",
        "        \"salvador-aid\", \n",
        "        \"relig-groups\", \n",
        "        \"anti-satell\", \n",
        "        \"nicar-contras\",\n",
        "        \"mx-missile\",\n",
        "        \"immigration\",\n",
        "        \"syn-cutback\",\n",
        "        \"edu-spending\",\n",
        "        \"right-to-sue\",\n",
        "        \"crime\",\n",
        "        \"dutyfree-expo\",\n",
        "        \"admin-act-sou\"]\n",
        "\n",
        "# Read in our data\n",
        "votes = pd.read_csv(data, names = cols)"
      ],
      "execution_count": null,
      "outputs": []
    },
    {
      "cell_type": "code",
      "metadata": {
        "colab": {
          "base_uri": "https://localhost:8080/",
          "height": 238
        },
        "id": "cSpwvRrs7I8C",
        "outputId": "bef3ce47-41c3-41d7-8d10-f1a73b9ffeca"
      },
      "source": [
        "votes.head()"
      ],
      "execution_count": null,
      "outputs": [
        {
          "output_type": "execute_result",
          "data": {
            "text/html": [
              "<div>\n",
              "<style scoped>\n",
              "    .dataframe tbody tr th:only-of-type {\n",
              "        vertical-align: middle;\n",
              "    }\n",
              "\n",
              "    .dataframe tbody tr th {\n",
              "        vertical-align: top;\n",
              "    }\n",
              "\n",
              "    .dataframe thead th {\n",
              "        text-align: right;\n",
              "    }\n",
              "</style>\n",
              "<table border=\"1\" class=\"dataframe\">\n",
              "  <thead>\n",
              "    <tr style=\"text-align: right;\">\n",
              "      <th></th>\n",
              "      <th>party</th>\n",
              "      <th>hc-infants</th>\n",
              "      <th>water-proj</th>\n",
              "      <th>budget-reso</th>\n",
              "      <th>fee-freeze</th>\n",
              "      <th>salvador-aid</th>\n",
              "      <th>relig-groups</th>\n",
              "      <th>anti-satell</th>\n",
              "      <th>nicar-contras</th>\n",
              "      <th>mx-missile</th>\n",
              "      <th>immigration</th>\n",
              "      <th>syn-cutback</th>\n",
              "      <th>edu-spending</th>\n",
              "      <th>right-to-sue</th>\n",
              "      <th>crime</th>\n",
              "      <th>dutyfree-expo</th>\n",
              "      <th>admin-act-sou</th>\n",
              "    </tr>\n",
              "  </thead>\n",
              "  <tbody>\n",
              "    <tr>\n",
              "      <th>0</th>\n",
              "      <td>republican</td>\n",
              "      <td>n</td>\n",
              "      <td>y</td>\n",
              "      <td>n</td>\n",
              "      <td>y</td>\n",
              "      <td>y</td>\n",
              "      <td>y</td>\n",
              "      <td>n</td>\n",
              "      <td>n</td>\n",
              "      <td>n</td>\n",
              "      <td>y</td>\n",
              "      <td>?</td>\n",
              "      <td>y</td>\n",
              "      <td>y</td>\n",
              "      <td>y</td>\n",
              "      <td>n</td>\n",
              "      <td>y</td>\n",
              "    </tr>\n",
              "    <tr>\n",
              "      <th>1</th>\n",
              "      <td>republican</td>\n",
              "      <td>n</td>\n",
              "      <td>y</td>\n",
              "      <td>n</td>\n",
              "      <td>y</td>\n",
              "      <td>y</td>\n",
              "      <td>y</td>\n",
              "      <td>n</td>\n",
              "      <td>n</td>\n",
              "      <td>n</td>\n",
              "      <td>n</td>\n",
              "      <td>n</td>\n",
              "      <td>y</td>\n",
              "      <td>y</td>\n",
              "      <td>y</td>\n",
              "      <td>n</td>\n",
              "      <td>?</td>\n",
              "    </tr>\n",
              "    <tr>\n",
              "      <th>2</th>\n",
              "      <td>democrat</td>\n",
              "      <td>?</td>\n",
              "      <td>y</td>\n",
              "      <td>y</td>\n",
              "      <td>?</td>\n",
              "      <td>y</td>\n",
              "      <td>y</td>\n",
              "      <td>n</td>\n",
              "      <td>n</td>\n",
              "      <td>n</td>\n",
              "      <td>n</td>\n",
              "      <td>y</td>\n",
              "      <td>n</td>\n",
              "      <td>y</td>\n",
              "      <td>y</td>\n",
              "      <td>n</td>\n",
              "      <td>n</td>\n",
              "    </tr>\n",
              "    <tr>\n",
              "      <th>3</th>\n",
              "      <td>democrat</td>\n",
              "      <td>n</td>\n",
              "      <td>y</td>\n",
              "      <td>y</td>\n",
              "      <td>n</td>\n",
              "      <td>?</td>\n",
              "      <td>y</td>\n",
              "      <td>n</td>\n",
              "      <td>n</td>\n",
              "      <td>n</td>\n",
              "      <td>n</td>\n",
              "      <td>y</td>\n",
              "      <td>n</td>\n",
              "      <td>y</td>\n",
              "      <td>n</td>\n",
              "      <td>n</td>\n",
              "      <td>y</td>\n",
              "    </tr>\n",
              "    <tr>\n",
              "      <th>4</th>\n",
              "      <td>democrat</td>\n",
              "      <td>y</td>\n",
              "      <td>y</td>\n",
              "      <td>y</td>\n",
              "      <td>n</td>\n",
              "      <td>y</td>\n",
              "      <td>y</td>\n",
              "      <td>n</td>\n",
              "      <td>n</td>\n",
              "      <td>n</td>\n",
              "      <td>n</td>\n",
              "      <td>y</td>\n",
              "      <td>?</td>\n",
              "      <td>y</td>\n",
              "      <td>y</td>\n",
              "      <td>y</td>\n",
              "      <td>y</td>\n",
              "    </tr>\n",
              "  </tbody>\n",
              "</table>\n",
              "</div>"
            ],
            "text/plain": [
              "        party hc-infants water-proj  ... crime dutyfree-expo admin-act-sou\n",
              "0  republican          n          y  ...     y             n             y\n",
              "1  republican          n          y  ...     y             n             ?\n",
              "2    democrat          ?          y  ...     y             n             n\n",
              "3    democrat          n          y  ...     n             n             y\n",
              "4    democrat          y          y  ...     y             y             y\n",
              "\n",
              "[5 rows x 17 columns]"
            ]
          },
          "metadata": {},
          "execution_count": 10
        }
      ]
    },
    {
      "cell_type": "code",
      "metadata": {
        "id": "YhJRwxMp8Gxc"
      },
      "source": [
        ""
      ],
      "execution_count": null,
      "outputs": []
    }
  ]
}