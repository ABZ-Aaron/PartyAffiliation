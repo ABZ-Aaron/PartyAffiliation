{
  "nbformat": 4,
  "nbformat_minor": 0,
  "metadata": {
    "colab": {
      "name": "PartyAffiliation.ipynb",
      "provenance": [],
      "collapsed_sections": [],
      "authorship_tag": "ABX9TyOo0pLpvjYRbY8DqttQEx78",
      "include_colab_link": true
    },
    "kernelspec": {
      "name": "python3",
      "display_name": "Python 3"
    },
    "language_info": {
      "name": "python"
    }
  },
  "cells": [
    {
      "cell_type": "markdown",
      "metadata": {
        "id": "view-in-github",
        "colab_type": "text"
      },
      "source": [
        "<a href=\"https://colab.research.google.com/github/ABZ-Aaron/PartyAffiliation/blob/master/PartyAffiliation.ipynb\" target=\"_parent\"><img src=\"https://colab.research.google.com/assets/colab-badge.svg\" alt=\"Open In Colab\"/></a>"
      ]
    },
    {
      "cell_type": "markdown",
      "metadata": {
        "id": "Bl72j8shAbSb"
      },
      "source": [
        "# Party Affiliation in the United States\n",
        "#### By Aaron Wright - 1912626\n",
        "---"
      ]
    },
    {
      "cell_type": "markdown",
      "source": [
        "The purpose of this analysis is two implement 2 distinct AI algorithms on a selected dataset. Throughout this report I will apply classification techniques to help assess voting habits, and predict whether an indvidiual votes **Democrat** or **Republican**."
      ],
      "metadata": {
        "id": "jo2ApEBi0YM5"
      }
    },
    {
      "cell_type": "markdown",
      "source": [
        "## Dataset\n",
        "\n",
        "Information on our dataset."
      ],
      "metadata": {
        "id": "CV9D9ZhC0if0"
      }
    },
    {
      "cell_type": "markdown",
      "source": [
        "This dataset was taken from the UCI Machine Learning Repository ([source]('https://archive.ics.uci.edu/ml/datasets/Congressional+Voting+Records'))"
      ],
      "metadata": {
        "id": "juaHTQ7Y0uQj"
      }
    },
    {
      "cell_type": "markdown",
      "source": [
        "### Title"
      ],
      "metadata": {
        "id": "NL4m8rpZ0lXi"
      }
    },
    {
      "cell_type": "markdown",
      "metadata": {
        "id": "Ax0osJd3LCmj"
      },
      "source": [
        "1984 United States Congressional Voting Records"
      ]
    },
    {
      "cell_type": "markdown",
      "source": [
        "### Description\n"
      ],
      "metadata": {
        "id": "S5B8RkWJ02ts"
      }
    },
    {
      "cell_type": "markdown",
      "source": [
        "This dataset contains individual votes from each US Congressman on 16 different key votes identified by the CQA.\n",
        "\n",
        "There are 9 different kinds of votes:\n",
        "\n",
        "* 3 are \"voted for\", \"paired for\", \"annouced for\". These are simplified to \"y\" in the dataset. \n",
        "\n",
        "* 3 are \"voted against\", \"paired against\", and \"announced against\". These are simplified to \"n\" in the dataset.\n",
        "\n",
        "* 3 are \"voted present\", \"voted present to avoid conflict of interest\", \"did not vote or make position known\". These are simplified to \"?\" in the dataset."
      ],
      "metadata": {
        "id": "2Ngao3vb05zn"
      }
    },
    {
      "cell_type": "markdown",
      "source": [
        "### Attributes"
      ],
      "metadata": {
        "id": "iaR18roZ1lCo"
      }
    },
    {
      "cell_type": "markdown",
      "source": [
        "1. party\n",
        "1. handicapped-infants\n",
        "1. water-project-cost-sharing\n",
        "1. adoption-of-the-budget-resolution\n",
        "1. physician-fee-freeze\n",
        "1. el-salvador-aid\n",
        "1. religious-groups-in-schools\n",
        "1. anti-satellite-test-ban\n",
        "1. aid-to-nicaraguan-contras\n",
        "1. mx-missile\n",
        "1. immigration\n",
        "1. synfuels-corporation-cutback\n",
        "1. education-spending\n",
        "1. superfund-right-to-sue\n",
        "1. crime\n",
        "1. duty-free-exports\n",
        "1. export-administration-act-south-africa"
      ],
      "metadata": {
        "id": "qcuVX1WD1mfQ"
      }
    },
    {
      "cell_type": "markdown",
      "source": [
        "## Imports\n",
        "\n",
        "Packages we need."
      ],
      "metadata": {
        "id": "Bs95kVw5sVlb"
      }
    },
    {
      "cell_type": "code",
      "metadata": {
        "id": "6BzBJNaj8ELi"
      },
      "source": [
        "import graphviz as gvz\n",
        "\n",
        "import matplotlib.pyplot as plt\n",
        "\n",
        "import numpy as np\n",
        "\n",
        "import pandas as pd\n",
        "\n",
        "import plotly.express as px\n",
        "\n",
        "import seaborn as sns\n",
        "\n",
        "from sklearn import tree\n",
        "\n",
        "from sklearn.metrics import accuracy_score, confusion_matrix\n",
        "\n",
        "from sklearn.model_selection import train_test_split, GridSearchCV\n",
        "\n",
        "from sklearn.neighbors import KNeighborsClassifier\n",
        "\n",
        "from sklearn.tree import DecisionTreeClassifier"
      ],
      "execution_count": 1,
      "outputs": []
    },
    {
      "cell_type": "markdown",
      "source": [
        "## Data Loading\n",
        "\n",
        "Loading our data in and setting column names."
      ],
      "metadata": {
        "id": "ZQN4aXMvsa4S"
      }
    },
    {
      "cell_type": "code",
      "source": [
        "# Take data from Github repository \n",
        "data = 'https://raw.githubusercontent.com/ABZ-Aaron/PartyAffiliation/master/votes_data.csv?token=AND25LFLHJXHZZMCYHIFOMTBVQHBE'"
      ],
      "metadata": {
        "id": "yc2vaQjFrQmR"
      },
      "execution_count": 2,
      "outputs": []
    },
    {
      "cell_type": "code",
      "source": [
        "# Column names\n",
        "cols = [\"party\", \n",
        "        \"hc-infants\", \n",
        "        \"water-proj\", \n",
        "        \"budget-reso\", \n",
        "        \"fee-freeze\", \n",
        "        \"salvador-aid\", \n",
        "        \"relig-groups\", \n",
        "        \"anti-satell\", \n",
        "        \"nicar-contras\",\n",
        "        \"mx-missile\",\n",
        "        \"immigration\",\n",
        "        \"syn-cutback\",\n",
        "        \"edu-spending\",\n",
        "        \"right-to-sue\",\n",
        "        \"crime\",\n",
        "        \"dutyfree-expo\",\n",
        "        \"admin-act-sou\"]"
      ],
      "metadata": {
        "id": "HQLdKjwhrRUk"
      },
      "execution_count": 3,
      "outputs": []
    },
    {
      "cell_type": "code",
      "source": [
        "# Read in our data\n",
        "votes = pd.read_csv(data, names = cols)"
      ],
      "metadata": {
        "id": "-nhon7OIrTj0"
      },
      "execution_count": 4,
      "outputs": []
    },
    {
      "cell_type": "markdown",
      "source": [
        "## Data Exploration\n",
        "\n",
        "Exploring our data, and understanding it better."
      ],
      "metadata": {
        "id": "BsLs7NvUsKy3"
      }
    },
    {
      "cell_type": "code",
      "source": [
        "# Check top 3 records\n",
        "votes.head(3)"
      ],
      "metadata": {
        "id": "ziQdfpYAsglQ",
        "outputId": "33b86d7f-d929-4c9a-b80f-365d4afea33e",
        "colab": {
          "base_uri": "https://localhost:8080/",
          "height": 203
        }
      },
      "execution_count": 5,
      "outputs": [
        {
          "output_type": "execute_result",
          "data": {
            "text/html": [
              "\n",
              "  <div id=\"df-c44cb8b7-e871-42fd-a20e-866b0acdf684\">\n",
              "    <div class=\"colab-df-container\">\n",
              "      <div>\n",
              "<style scoped>\n",
              "    .dataframe tbody tr th:only-of-type {\n",
              "        vertical-align: middle;\n",
              "    }\n",
              "\n",
              "    .dataframe tbody tr th {\n",
              "        vertical-align: top;\n",
              "    }\n",
              "\n",
              "    .dataframe thead th {\n",
              "        text-align: right;\n",
              "    }\n",
              "</style>\n",
              "<table border=\"1\" class=\"dataframe\">\n",
              "  <thead>\n",
              "    <tr style=\"text-align: right;\">\n",
              "      <th></th>\n",
              "      <th>party</th>\n",
              "      <th>hc-infants</th>\n",
              "      <th>water-proj</th>\n",
              "      <th>budget-reso</th>\n",
              "      <th>fee-freeze</th>\n",
              "      <th>salvador-aid</th>\n",
              "      <th>relig-groups</th>\n",
              "      <th>anti-satell</th>\n",
              "      <th>nicar-contras</th>\n",
              "      <th>mx-missile</th>\n",
              "      <th>immigration</th>\n",
              "      <th>syn-cutback</th>\n",
              "      <th>edu-spending</th>\n",
              "      <th>right-to-sue</th>\n",
              "      <th>crime</th>\n",
              "      <th>dutyfree-expo</th>\n",
              "      <th>admin-act-sou</th>\n",
              "    </tr>\n",
              "  </thead>\n",
              "  <tbody>\n",
              "    <tr>\n",
              "      <th>0</th>\n",
              "      <td>republican</td>\n",
              "      <td>n</td>\n",
              "      <td>y</td>\n",
              "      <td>n</td>\n",
              "      <td>y</td>\n",
              "      <td>y</td>\n",
              "      <td>y</td>\n",
              "      <td>n</td>\n",
              "      <td>n</td>\n",
              "      <td>n</td>\n",
              "      <td>y</td>\n",
              "      <td>?</td>\n",
              "      <td>y</td>\n",
              "      <td>y</td>\n",
              "      <td>y</td>\n",
              "      <td>n</td>\n",
              "      <td>y</td>\n",
              "    </tr>\n",
              "    <tr>\n",
              "      <th>1</th>\n",
              "      <td>republican</td>\n",
              "      <td>n</td>\n",
              "      <td>y</td>\n",
              "      <td>n</td>\n",
              "      <td>y</td>\n",
              "      <td>y</td>\n",
              "      <td>y</td>\n",
              "      <td>n</td>\n",
              "      <td>n</td>\n",
              "      <td>n</td>\n",
              "      <td>n</td>\n",
              "      <td>n</td>\n",
              "      <td>y</td>\n",
              "      <td>y</td>\n",
              "      <td>y</td>\n",
              "      <td>n</td>\n",
              "      <td>?</td>\n",
              "    </tr>\n",
              "    <tr>\n",
              "      <th>2</th>\n",
              "      <td>democrat</td>\n",
              "      <td>?</td>\n",
              "      <td>y</td>\n",
              "      <td>y</td>\n",
              "      <td>?</td>\n",
              "      <td>y</td>\n",
              "      <td>y</td>\n",
              "      <td>n</td>\n",
              "      <td>n</td>\n",
              "      <td>n</td>\n",
              "      <td>n</td>\n",
              "      <td>y</td>\n",
              "      <td>n</td>\n",
              "      <td>y</td>\n",
              "      <td>y</td>\n",
              "      <td>n</td>\n",
              "      <td>n</td>\n",
              "    </tr>\n",
              "  </tbody>\n",
              "</table>\n",
              "</div>\n",
              "      <button class=\"colab-df-convert\" onclick=\"convertToInteractive('df-c44cb8b7-e871-42fd-a20e-866b0acdf684')\"\n",
              "              title=\"Convert this dataframe to an interactive table.\"\n",
              "              style=\"display:none;\">\n",
              "        \n",
              "  <svg xmlns=\"http://www.w3.org/2000/svg\" height=\"24px\"viewBox=\"0 0 24 24\"\n",
              "       width=\"24px\">\n",
              "    <path d=\"M0 0h24v24H0V0z\" fill=\"none\"/>\n",
              "    <path d=\"M18.56 5.44l.94 2.06.94-2.06 2.06-.94-2.06-.94-.94-2.06-.94 2.06-2.06.94zm-11 1L8.5 8.5l.94-2.06 2.06-.94-2.06-.94L8.5 2.5l-.94 2.06-2.06.94zm10 10l.94 2.06.94-2.06 2.06-.94-2.06-.94-.94-2.06-.94 2.06-2.06.94z\"/><path d=\"M17.41 7.96l-1.37-1.37c-.4-.4-.92-.59-1.43-.59-.52 0-1.04.2-1.43.59L10.3 9.45l-7.72 7.72c-.78.78-.78 2.05 0 2.83L4 21.41c.39.39.9.59 1.41.59.51 0 1.02-.2 1.41-.59l7.78-7.78 2.81-2.81c.8-.78.8-2.07 0-2.86zM5.41 20L4 18.59l7.72-7.72 1.47 1.35L5.41 20z\"/>\n",
              "  </svg>\n",
              "      </button>\n",
              "      \n",
              "  <style>\n",
              "    .colab-df-container {\n",
              "      display:flex;\n",
              "      flex-wrap:wrap;\n",
              "      gap: 12px;\n",
              "    }\n",
              "\n",
              "    .colab-df-convert {\n",
              "      background-color: #E8F0FE;\n",
              "      border: none;\n",
              "      border-radius: 50%;\n",
              "      cursor: pointer;\n",
              "      display: none;\n",
              "      fill: #1967D2;\n",
              "      height: 32px;\n",
              "      padding: 0 0 0 0;\n",
              "      width: 32px;\n",
              "    }\n",
              "\n",
              "    .colab-df-convert:hover {\n",
              "      background-color: #E2EBFA;\n",
              "      box-shadow: 0px 1px 2px rgba(60, 64, 67, 0.3), 0px 1px 3px 1px rgba(60, 64, 67, 0.15);\n",
              "      fill: #174EA6;\n",
              "    }\n",
              "\n",
              "    [theme=dark] .colab-df-convert {\n",
              "      background-color: #3B4455;\n",
              "      fill: #D2E3FC;\n",
              "    }\n",
              "\n",
              "    [theme=dark] .colab-df-convert:hover {\n",
              "      background-color: #434B5C;\n",
              "      box-shadow: 0px 1px 3px 1px rgba(0, 0, 0, 0.15);\n",
              "      filter: drop-shadow(0px 1px 2px rgba(0, 0, 0, 0.3));\n",
              "      fill: #FFFFFF;\n",
              "    }\n",
              "  </style>\n",
              "\n",
              "      <script>\n",
              "        const buttonEl =\n",
              "          document.querySelector('#df-c44cb8b7-e871-42fd-a20e-866b0acdf684 button.colab-df-convert');\n",
              "        buttonEl.style.display =\n",
              "          google.colab.kernel.accessAllowed ? 'block' : 'none';\n",
              "\n",
              "        async function convertToInteractive(key) {\n",
              "          const element = document.querySelector('#df-c44cb8b7-e871-42fd-a20e-866b0acdf684');\n",
              "          const dataTable =\n",
              "            await google.colab.kernel.invokeFunction('convertToInteractive',\n",
              "                                                     [key], {});\n",
              "          if (!dataTable) return;\n",
              "\n",
              "          const docLinkHtml = 'Like what you see? Visit the ' +\n",
              "            '<a target=\"_blank\" href=https://colab.research.google.com/notebooks/data_table.ipynb>data table notebook</a>'\n",
              "            + ' to learn more about interactive tables.';\n",
              "          element.innerHTML = '';\n",
              "          dataTable['output_type'] = 'display_data';\n",
              "          await google.colab.output.renderOutput(dataTable, element);\n",
              "          const docLink = document.createElement('div');\n",
              "          docLink.innerHTML = docLinkHtml;\n",
              "          element.appendChild(docLink);\n",
              "        }\n",
              "      </script>\n",
              "    </div>\n",
              "  </div>\n",
              "  "
            ],
            "text/plain": [
              "        party hc-infants water-proj  ... crime dutyfree-expo admin-act-sou\n",
              "0  republican          n          y  ...     y             n             y\n",
              "1  republican          n          y  ...     y             n             ?\n",
              "2    democrat          ?          y  ...     y             n             n\n",
              "\n",
              "[3 rows x 17 columns]"
            ]
          },
          "metadata": {},
          "execution_count": 5
        }
      ]
    },
    {
      "cell_type": "code",
      "source": [
        "# Check bottom 3 records\n",
        "votes.tail(3)"
      ],
      "metadata": {
        "id": "RDNSDeJ6t3J6",
        "outputId": "a1903b86-5473-45d3-efa3-a66dae085d03",
        "colab": {
          "base_uri": "https://localhost:8080/",
          "height": 203
        }
      },
      "execution_count": 6,
      "outputs": [
        {
          "output_type": "execute_result",
          "data": {
            "text/html": [
              "\n",
              "  <div id=\"df-b5f23884-da67-409b-89f5-891a76022be6\">\n",
              "    <div class=\"colab-df-container\">\n",
              "      <div>\n",
              "<style scoped>\n",
              "    .dataframe tbody tr th:only-of-type {\n",
              "        vertical-align: middle;\n",
              "    }\n",
              "\n",
              "    .dataframe tbody tr th {\n",
              "        vertical-align: top;\n",
              "    }\n",
              "\n",
              "    .dataframe thead th {\n",
              "        text-align: right;\n",
              "    }\n",
              "</style>\n",
              "<table border=\"1\" class=\"dataframe\">\n",
              "  <thead>\n",
              "    <tr style=\"text-align: right;\">\n",
              "      <th></th>\n",
              "      <th>party</th>\n",
              "      <th>hc-infants</th>\n",
              "      <th>water-proj</th>\n",
              "      <th>budget-reso</th>\n",
              "      <th>fee-freeze</th>\n",
              "      <th>salvador-aid</th>\n",
              "      <th>relig-groups</th>\n",
              "      <th>anti-satell</th>\n",
              "      <th>nicar-contras</th>\n",
              "      <th>mx-missile</th>\n",
              "      <th>immigration</th>\n",
              "      <th>syn-cutback</th>\n",
              "      <th>edu-spending</th>\n",
              "      <th>right-to-sue</th>\n",
              "      <th>crime</th>\n",
              "      <th>dutyfree-expo</th>\n",
              "      <th>admin-act-sou</th>\n",
              "    </tr>\n",
              "  </thead>\n",
              "  <tbody>\n",
              "    <tr>\n",
              "      <th>432</th>\n",
              "      <td>republican</td>\n",
              "      <td>n</td>\n",
              "      <td>?</td>\n",
              "      <td>n</td>\n",
              "      <td>y</td>\n",
              "      <td>y</td>\n",
              "      <td>y</td>\n",
              "      <td>n</td>\n",
              "      <td>n</td>\n",
              "      <td>n</td>\n",
              "      <td>n</td>\n",
              "      <td>y</td>\n",
              "      <td>y</td>\n",
              "      <td>y</td>\n",
              "      <td>y</td>\n",
              "      <td>n</td>\n",
              "      <td>y</td>\n",
              "    </tr>\n",
              "    <tr>\n",
              "      <th>433</th>\n",
              "      <td>republican</td>\n",
              "      <td>n</td>\n",
              "      <td>n</td>\n",
              "      <td>n</td>\n",
              "      <td>y</td>\n",
              "      <td>y</td>\n",
              "      <td>y</td>\n",
              "      <td>?</td>\n",
              "      <td>?</td>\n",
              "      <td>?</td>\n",
              "      <td>?</td>\n",
              "      <td>n</td>\n",
              "      <td>y</td>\n",
              "      <td>y</td>\n",
              "      <td>y</td>\n",
              "      <td>n</td>\n",
              "      <td>y</td>\n",
              "    </tr>\n",
              "    <tr>\n",
              "      <th>434</th>\n",
              "      <td>republican</td>\n",
              "      <td>n</td>\n",
              "      <td>y</td>\n",
              "      <td>n</td>\n",
              "      <td>y</td>\n",
              "      <td>y</td>\n",
              "      <td>y</td>\n",
              "      <td>n</td>\n",
              "      <td>n</td>\n",
              "      <td>n</td>\n",
              "      <td>y</td>\n",
              "      <td>n</td>\n",
              "      <td>y</td>\n",
              "      <td>y</td>\n",
              "      <td>y</td>\n",
              "      <td>?</td>\n",
              "      <td>n</td>\n",
              "    </tr>\n",
              "  </tbody>\n",
              "</table>\n",
              "</div>\n",
              "      <button class=\"colab-df-convert\" onclick=\"convertToInteractive('df-b5f23884-da67-409b-89f5-891a76022be6')\"\n",
              "              title=\"Convert this dataframe to an interactive table.\"\n",
              "              style=\"display:none;\">\n",
              "        \n",
              "  <svg xmlns=\"http://www.w3.org/2000/svg\" height=\"24px\"viewBox=\"0 0 24 24\"\n",
              "       width=\"24px\">\n",
              "    <path d=\"M0 0h24v24H0V0z\" fill=\"none\"/>\n",
              "    <path d=\"M18.56 5.44l.94 2.06.94-2.06 2.06-.94-2.06-.94-.94-2.06-.94 2.06-2.06.94zm-11 1L8.5 8.5l.94-2.06 2.06-.94-2.06-.94L8.5 2.5l-.94 2.06-2.06.94zm10 10l.94 2.06.94-2.06 2.06-.94-2.06-.94-.94-2.06-.94 2.06-2.06.94z\"/><path d=\"M17.41 7.96l-1.37-1.37c-.4-.4-.92-.59-1.43-.59-.52 0-1.04.2-1.43.59L10.3 9.45l-7.72 7.72c-.78.78-.78 2.05 0 2.83L4 21.41c.39.39.9.59 1.41.59.51 0 1.02-.2 1.41-.59l7.78-7.78 2.81-2.81c.8-.78.8-2.07 0-2.86zM5.41 20L4 18.59l7.72-7.72 1.47 1.35L5.41 20z\"/>\n",
              "  </svg>\n",
              "      </button>\n",
              "      \n",
              "  <style>\n",
              "    .colab-df-container {\n",
              "      display:flex;\n",
              "      flex-wrap:wrap;\n",
              "      gap: 12px;\n",
              "    }\n",
              "\n",
              "    .colab-df-convert {\n",
              "      background-color: #E8F0FE;\n",
              "      border: none;\n",
              "      border-radius: 50%;\n",
              "      cursor: pointer;\n",
              "      display: none;\n",
              "      fill: #1967D2;\n",
              "      height: 32px;\n",
              "      padding: 0 0 0 0;\n",
              "      width: 32px;\n",
              "    }\n",
              "\n",
              "    .colab-df-convert:hover {\n",
              "      background-color: #E2EBFA;\n",
              "      box-shadow: 0px 1px 2px rgba(60, 64, 67, 0.3), 0px 1px 3px 1px rgba(60, 64, 67, 0.15);\n",
              "      fill: #174EA6;\n",
              "    }\n",
              "\n",
              "    [theme=dark] .colab-df-convert {\n",
              "      background-color: #3B4455;\n",
              "      fill: #D2E3FC;\n",
              "    }\n",
              "\n",
              "    [theme=dark] .colab-df-convert:hover {\n",
              "      background-color: #434B5C;\n",
              "      box-shadow: 0px 1px 3px 1px rgba(0, 0, 0, 0.15);\n",
              "      filter: drop-shadow(0px 1px 2px rgba(0, 0, 0, 0.3));\n",
              "      fill: #FFFFFF;\n",
              "    }\n",
              "  </style>\n",
              "\n",
              "      <script>\n",
              "        const buttonEl =\n",
              "          document.querySelector('#df-b5f23884-da67-409b-89f5-891a76022be6 button.colab-df-convert');\n",
              "        buttonEl.style.display =\n",
              "          google.colab.kernel.accessAllowed ? 'block' : 'none';\n",
              "\n",
              "        async function convertToInteractive(key) {\n",
              "          const element = document.querySelector('#df-b5f23884-da67-409b-89f5-891a76022be6');\n",
              "          const dataTable =\n",
              "            await google.colab.kernel.invokeFunction('convertToInteractive',\n",
              "                                                     [key], {});\n",
              "          if (!dataTable) return;\n",
              "\n",
              "          const docLinkHtml = 'Like what you see? Visit the ' +\n",
              "            '<a target=\"_blank\" href=https://colab.research.google.com/notebooks/data_table.ipynb>data table notebook</a>'\n",
              "            + ' to learn more about interactive tables.';\n",
              "          element.innerHTML = '';\n",
              "          dataTable['output_type'] = 'display_data';\n",
              "          await google.colab.output.renderOutput(dataTable, element);\n",
              "          const docLink = document.createElement('div');\n",
              "          docLink.innerHTML = docLinkHtml;\n",
              "          element.appendChild(docLink);\n",
              "        }\n",
              "      </script>\n",
              "    </div>\n",
              "  </div>\n",
              "  "
            ],
            "text/plain": [
              "          party hc-infants water-proj  ... crime dutyfree-expo admin-act-sou\n",
              "432  republican          n          ?  ...     y             n             y\n",
              "433  republican          n          n  ...     y             n             y\n",
              "434  republican          n          y  ...     y             ?             n\n",
              "\n",
              "[3 rows x 17 columns]"
            ]
          },
          "metadata": {},
          "execution_count": 6
        }
      ]
    },
    {
      "cell_type": "code",
      "source": [
        "# Show information associated with dataframe\n",
        "votes.info()"
      ],
      "metadata": {
        "id": "tWNUp7kIsgoP",
        "outputId": "4c0acec7-f840-411f-e895-bb4dc5539641",
        "colab": {
          "base_uri": "https://localhost:8080/"
        }
      },
      "execution_count": 7,
      "outputs": [
        {
          "output_type": "stream",
          "name": "stdout",
          "text": [
            "<class 'pandas.core.frame.DataFrame'>\n",
            "RangeIndex: 435 entries, 0 to 434\n",
            "Data columns (total 17 columns):\n",
            " #   Column         Non-Null Count  Dtype \n",
            "---  ------         --------------  ----- \n",
            " 0   party          435 non-null    object\n",
            " 1   hc-infants     435 non-null    object\n",
            " 2   water-proj     435 non-null    object\n",
            " 3   budget-reso    435 non-null    object\n",
            " 4   fee-freeze     435 non-null    object\n",
            " 5   salvador-aid   435 non-null    object\n",
            " 6   relig-groups   435 non-null    object\n",
            " 7   anti-satell    435 non-null    object\n",
            " 8   nicar-contras  435 non-null    object\n",
            " 9   mx-missile     435 non-null    object\n",
            " 10  immigration    435 non-null    object\n",
            " 11  syn-cutback    435 non-null    object\n",
            " 12  edu-spending   435 non-null    object\n",
            " 13  right-to-sue   435 non-null    object\n",
            " 14  crime          435 non-null    object\n",
            " 15  dutyfree-expo  435 non-null    object\n",
            " 16  admin-act-sou  435 non-null    object\n",
            "dtypes: object(17)\n",
            "memory usage: 57.9+ KB\n"
          ]
        }
      ]
    },
    {
      "cell_type": "code",
      "source": [
        "# Return number of unique values by column\n",
        "votes.nunique()"
      ],
      "metadata": {
        "id": "5iV0vqi0uCWL",
        "outputId": "65d5ed82-7179-4602-bba6-7594b0981de6",
        "colab": {
          "base_uri": "https://localhost:8080/"
        }
      },
      "execution_count": 8,
      "outputs": [
        {
          "output_type": "execute_result",
          "data": {
            "text/plain": [
              "party            2\n",
              "hc-infants       3\n",
              "water-proj       3\n",
              "budget-reso      3\n",
              "fee-freeze       3\n",
              "salvador-aid     3\n",
              "relig-groups     3\n",
              "anti-satell      3\n",
              "nicar-contras    3\n",
              "mx-missile       3\n",
              "immigration      3\n",
              "syn-cutback      3\n",
              "edu-spending     3\n",
              "right-to-sue     3\n",
              "crime            3\n",
              "dutyfree-expo    3\n",
              "admin-act-sou    3\n",
              "dtype: int64"
            ]
          },
          "metadata": {},
          "execution_count": 8
        }
      ]
    },
    {
      "cell_type": "code",
      "source": [
        "# Return unique values for target variable\n",
        "votes['party'].unique()"
      ],
      "metadata": {
        "id": "h9Ou8gd9tVeS",
        "outputId": "45a521d2-78fa-49f2-f861-4e815b94b978",
        "colab": {
          "base_uri": "https://localhost:8080/"
        }
      },
      "execution_count": 9,
      "outputs": [
        {
          "output_type": "execute_result",
          "data": {
            "text/plain": [
              "array(['republican', 'democrat'], dtype=object)"
            ]
          },
          "metadata": {},
          "execution_count": 9
        }
      ]
    },
    {
      "cell_type": "code",
      "source": [
        "# Return unique values from one feature variable\n",
        "votes['hc-infants'].unique()"
      ],
      "metadata": {
        "id": "5XgX_Sx5ucS4",
        "outputId": "a7c576b2-4c12-4a73-c0a9-18ae2662967f",
        "colab": {
          "base_uri": "https://localhost:8080/"
        }
      },
      "execution_count": 10,
      "outputs": [
        {
          "output_type": "execute_result",
          "data": {
            "text/plain": [
              "array(['n', '?', 'y'], dtype=object)"
            ]
          },
          "metadata": {},
          "execution_count": 10
        }
      ]
    },
    {
      "cell_type": "code",
      "source": [
        "votes['party'].value_counts(dropna=False)"
      ],
      "metadata": {
        "id": "316HsezV2UwH",
        "outputId": "edd691cc-edfc-4528-b5f1-a565f95abb1d",
        "colab": {
          "base_uri": "https://localhost:8080/"
        }
      },
      "execution_count": 11,
      "outputs": [
        {
          "output_type": "execute_result",
          "data": {
            "text/plain": [
              "democrat      267\n",
              "republican    168\n",
              "Name: party, dtype: int64"
            ]
          },
          "metadata": {},
          "execution_count": 11
        }
      ]
    },
    {
      "cell_type": "code",
      "source": [
        "votes['party'].value_counts(normalize=True)"
      ],
      "metadata": {
        "id": "qeaR18P52wQg",
        "outputId": "ec8c370c-688a-4dec-af86-327a74e9ee8a",
        "colab": {
          "base_uri": "https://localhost:8080/"
        }
      },
      "execution_count": 12,
      "outputs": [
        {
          "output_type": "execute_result",
          "data": {
            "text/plain": [
              "democrat      0.613793\n",
              "republican    0.386207\n",
              "Name: party, dtype: float64"
            ]
          },
          "metadata": {},
          "execution_count": 12
        }
      ]
    },
    {
      "cell_type": "code",
      "source": [
        "fig = px.pie(votes, \"party\", title = \"Rep vs Dem Count\")\n",
        "fig.show()"
      ],
      "metadata": {
        "id": "iz6cokLn8Ejy",
        "outputId": "a5b2229c-7b0e-4351-f3ae-39dd71dc4eb1",
        "colab": {
          "base_uri": "https://localhost:8080/",
          "height": 542
        }
      },
      "execution_count": 13,
      "outputs": [
        {
          "output_type": "display_data",
          "data": {
            "text/html": [
              "<html>\n",
              "<head><meta charset=\"utf-8\" /></head>\n",
              "<body>\n",
              "    <div>            <script src=\"https://cdnjs.cloudflare.com/ajax/libs/mathjax/2.7.5/MathJax.js?config=TeX-AMS-MML_SVG\"></script><script type=\"text/javascript\">if (window.MathJax) {MathJax.Hub.Config({SVG: {font: \"STIX-Web\"}});}</script>                <script type=\"text/javascript\">window.PlotlyConfig = {MathJaxConfig: 'local'};</script>\n",
              "        <script src=\"https://cdn.plot.ly/plotly-2.8.3.min.js\"></script>                <div id=\"94c296da-cd5a-4ad3-8914-63321e8c8248\" class=\"plotly-graph-div\" style=\"height:525px; width:100%;\"></div>            <script type=\"text/javascript\">                                    window.PLOTLYENV=window.PLOTLYENV || {};                                    if (document.getElementById(\"94c296da-cd5a-4ad3-8914-63321e8c8248\")) {                    Plotly.newPlot(                        \"94c296da-cd5a-4ad3-8914-63321e8c8248\",                        [{\"domain\":{\"x\":[0.0,1.0],\"y\":[0.0,1.0]},\"hovertemplate\":\"party=%{label}<extra></extra>\",\"labels\":[\"republican\",\"republican\",\"democrat\",\"democrat\",\"democrat\",\"democrat\",\"democrat\",\"republican\",\"republican\",\"democrat\",\"republican\",\"republican\",\"democrat\",\"democrat\",\"republican\",\"republican\",\"democrat\",\"democrat\",\"republican\",\"democrat\",\"democrat\",\"democrat\",\"democrat\",\"democrat\",\"democrat\",\"democrat\",\"democrat\",\"democrat\",\"republican\",\"democrat\",\"republican\",\"democrat\",\"democrat\",\"republican\",\"democrat\",\"republican\",\"republican\",\"republican\",\"republican\",\"democrat\",\"democrat\",\"democrat\",\"democrat\",\"democrat\",\"democrat\",\"democrat\",\"democrat\",\"democrat\",\"democrat\",\"republican\",\"democrat\",\"republican\",\"democrat\",\"republican\",\"democrat\",\"republican\",\"republican\",\"republican\",\"republican\",\"republican\",\"democrat\",\"republican\",\"democrat\",\"democrat\",\"democrat\",\"republican\",\"republican\",\"republican\",\"democrat\",\"democrat\",\"democrat\",\"republican\",\"democrat\",\"republican\",\"democrat\",\"democrat\",\"democrat\",\"democrat\",\"democrat\",\"republican\",\"democrat\",\"democrat\",\"republican\",\"republican\",\"republican\",\"democrat\",\"republican\",\"republican\",\"democrat\",\"republican\",\"democrat\",\"democrat\",\"democrat\",\"democrat\",\"democrat\",\"democrat\",\"democrat\",\"democrat\",\"democrat\",\"republican\",\"democrat\",\"democrat\",\"democrat\",\"democrat\",\"democrat\",\"democrat\",\"republican\",\"republican\",\"democrat\",\"democrat\",\"democrat\",\"republican\",\"democrat\",\"republican\",\"democrat\",\"democrat\",\"democrat\",\"republican\",\"democrat\",\"republican\",\"republican\",\"republican\",\"republican\",\"republican\",\"democrat\",\"republican\",\"republican\",\"democrat\",\"democrat\",\"democrat\",\"democrat\",\"democrat\",\"republican\",\"republican\",\"republican\",\"republican\",\"republican\",\"democrat\",\"democrat\",\"democrat\",\"republican\",\"republican\",\"republican\",\"democrat\",\"democrat\",\"democrat\",\"republican\",\"democrat\",\"republican\",\"democrat\",\"republican\",\"democrat\",\"democrat\",\"democrat\",\"republican\",\"republican\",\"republican\",\"democrat\",\"republican\",\"democrat\",\"democrat\",\"democrat\",\"democrat\",\"republican\",\"democrat\",\"democrat\",\"republican\",\"republican\",\"democrat\",\"democrat\",\"democrat\",\"republican\",\"democrat\",\"democrat\",\"democrat\",\"democrat\",\"republican\",\"democrat\",\"democrat\",\"democrat\",\"democrat\",\"democrat\",\"democrat\",\"democrat\",\"democrat\",\"democrat\",\"democrat\",\"democrat\",\"republican\",\"democrat\",\"republican\",\"republican\",\"democrat\",\"democrat\",\"democrat\",\"republican\",\"democrat\",\"republican\",\"democrat\",\"democrat\",\"democrat\",\"democrat\",\"democrat\",\"democrat\",\"republican\",\"democrat\",\"republican\",\"republican\",\"democrat\",\"democrat\",\"democrat\",\"republican\",\"democrat\",\"democrat\",\"republican\",\"democrat\",\"democrat\",\"republican\",\"democrat\",\"democrat\",\"democrat\",\"democrat\",\"democrat\",\"republican\",\"republican\",\"republican\",\"democrat\",\"democrat\",\"republican\",\"republican\",\"republican\",\"republican\",\"democrat\",\"republican\",\"democrat\",\"republican\",\"democrat\",\"democrat\",\"democrat\",\"republican\",\"republican\",\"democrat\",\"republican\",\"democrat\",\"democrat\",\"democrat\",\"democrat\",\"republican\",\"republican\",\"democrat\",\"republican\",\"republican\",\"democrat\",\"republican\",\"democrat\",\"democrat\",\"republican\",\"republican\",\"democrat\",\"democrat\",\"democrat\",\"democrat\",\"democrat\",\"democrat\",\"democrat\",\"democrat\",\"republican\",\"republican\",\"democrat\",\"democrat\",\"democrat\",\"democrat\",\"democrat\",\"republican\",\"republican\",\"democrat\",\"republican\",\"republican\",\"republican\",\"republican\",\"democrat\",\"republican\",\"republican\",\"republican\",\"democrat\",\"democrat\",\"democrat\",\"democrat\",\"democrat\",\"democrat\",\"democrat\",\"democrat\",\"democrat\",\"democrat\",\"democrat\",\"republican\",\"republican\",\"democrat\",\"democrat\",\"democrat\",\"republican\",\"democrat\",\"republican\",\"republican\",\"republican\",\"republican\",\"republican\",\"democrat\",\"republican\",\"democrat\",\"republican\",\"democrat\",\"democrat\",\"republican\",\"republican\",\"republican\",\"democrat\",\"democrat\",\"democrat\",\"democrat\",\"democrat\",\"democrat\",\"democrat\",\"democrat\",\"republican\",\"democrat\",\"democrat\",\"republican\",\"democrat\",\"democrat\",\"republican\",\"democrat\",\"democrat\",\"democrat\",\"democrat\",\"republican\",\"democrat\",\"democrat\",\"democrat\",\"republican\",\"republican\",\"democrat\",\"democrat\",\"republican\",\"democrat\",\"republican\",\"republican\",\"republican\",\"democrat\",\"republican\",\"democrat\",\"republican\",\"democrat\",\"republican\",\"democrat\",\"republican\",\"republican\",\"republican\",\"democrat\",\"republican\",\"democrat\",\"democrat\",\"democrat\",\"republican\",\"republican\",\"democrat\",\"democrat\",\"democrat\",\"democrat\",\"republican\",\"democrat\",\"democrat\",\"democrat\",\"democrat\",\"republican\",\"democrat\",\"democrat\",\"republican\",\"republican\",\"republican\",\"democrat\",\"democrat\",\"democrat\",\"democrat\",\"democrat\",\"democrat\",\"democrat\",\"democrat\",\"democrat\",\"democrat\",\"democrat\",\"democrat\",\"republican\",\"republican\",\"democrat\",\"democrat\",\"democrat\",\"democrat\",\"democrat\",\"republican\",\"republican\",\"republican\",\"republican\",\"republican\",\"republican\",\"republican\",\"democrat\",\"democrat\",\"democrat\",\"republican\",\"republican\",\"democrat\",\"republican\",\"republican\",\"democrat\",\"democrat\",\"republican\",\"democrat\",\"democrat\",\"democrat\",\"republican\",\"democrat\",\"democrat\",\"democrat\",\"democrat\",\"democrat\",\"democrat\",\"republican\",\"democrat\",\"democrat\",\"republican\",\"democrat\",\"republican\",\"republican\",\"republican\"],\"legendgroup\":\"\",\"name\":\"\",\"showlegend\":true,\"type\":\"pie\"}],                        {\"template\":{\"data\":{\"bar\":[{\"error_x\":{\"color\":\"#2a3f5f\"},\"error_y\":{\"color\":\"#2a3f5f\"},\"marker\":{\"line\":{\"color\":\"#E5ECF6\",\"width\":0.5},\"pattern\":{\"fillmode\":\"overlay\",\"size\":10,\"solidity\":0.2}},\"type\":\"bar\"}],\"barpolar\":[{\"marker\":{\"line\":{\"color\":\"#E5ECF6\",\"width\":0.5},\"pattern\":{\"fillmode\":\"overlay\",\"size\":10,\"solidity\":0.2}},\"type\":\"barpolar\"}],\"carpet\":[{\"aaxis\":{\"endlinecolor\":\"#2a3f5f\",\"gridcolor\":\"white\",\"linecolor\":\"white\",\"minorgridcolor\":\"white\",\"startlinecolor\":\"#2a3f5f\"},\"baxis\":{\"endlinecolor\":\"#2a3f5f\",\"gridcolor\":\"white\",\"linecolor\":\"white\",\"minorgridcolor\":\"white\",\"startlinecolor\":\"#2a3f5f\"},\"type\":\"carpet\"}],\"choropleth\":[{\"colorbar\":{\"outlinewidth\":0,\"ticks\":\"\"},\"type\":\"choropleth\"}],\"contour\":[{\"colorbar\":{\"outlinewidth\":0,\"ticks\":\"\"},\"colorscale\":[[0.0,\"#0d0887\"],[0.1111111111111111,\"#46039f\"],[0.2222222222222222,\"#7201a8\"],[0.3333333333333333,\"#9c179e\"],[0.4444444444444444,\"#bd3786\"],[0.5555555555555556,\"#d8576b\"],[0.6666666666666666,\"#ed7953\"],[0.7777777777777778,\"#fb9f3a\"],[0.8888888888888888,\"#fdca26\"],[1.0,\"#f0f921\"]],\"type\":\"contour\"}],\"contourcarpet\":[{\"colorbar\":{\"outlinewidth\":0,\"ticks\":\"\"},\"type\":\"contourcarpet\"}],\"heatmap\":[{\"colorbar\":{\"outlinewidth\":0,\"ticks\":\"\"},\"colorscale\":[[0.0,\"#0d0887\"],[0.1111111111111111,\"#46039f\"],[0.2222222222222222,\"#7201a8\"],[0.3333333333333333,\"#9c179e\"],[0.4444444444444444,\"#bd3786\"],[0.5555555555555556,\"#d8576b\"],[0.6666666666666666,\"#ed7953\"],[0.7777777777777778,\"#fb9f3a\"],[0.8888888888888888,\"#fdca26\"],[1.0,\"#f0f921\"]],\"type\":\"heatmap\"}],\"heatmapgl\":[{\"colorbar\":{\"outlinewidth\":0,\"ticks\":\"\"},\"colorscale\":[[0.0,\"#0d0887\"],[0.1111111111111111,\"#46039f\"],[0.2222222222222222,\"#7201a8\"],[0.3333333333333333,\"#9c179e\"],[0.4444444444444444,\"#bd3786\"],[0.5555555555555556,\"#d8576b\"],[0.6666666666666666,\"#ed7953\"],[0.7777777777777778,\"#fb9f3a\"],[0.8888888888888888,\"#fdca26\"],[1.0,\"#f0f921\"]],\"type\":\"heatmapgl\"}],\"histogram\":[{\"marker\":{\"pattern\":{\"fillmode\":\"overlay\",\"size\":10,\"solidity\":0.2}},\"type\":\"histogram\"}],\"histogram2d\":[{\"colorbar\":{\"outlinewidth\":0,\"ticks\":\"\"},\"colorscale\":[[0.0,\"#0d0887\"],[0.1111111111111111,\"#46039f\"],[0.2222222222222222,\"#7201a8\"],[0.3333333333333333,\"#9c179e\"],[0.4444444444444444,\"#bd3786\"],[0.5555555555555556,\"#d8576b\"],[0.6666666666666666,\"#ed7953\"],[0.7777777777777778,\"#fb9f3a\"],[0.8888888888888888,\"#fdca26\"],[1.0,\"#f0f921\"]],\"type\":\"histogram2d\"}],\"histogram2dcontour\":[{\"colorbar\":{\"outlinewidth\":0,\"ticks\":\"\"},\"colorscale\":[[0.0,\"#0d0887\"],[0.1111111111111111,\"#46039f\"],[0.2222222222222222,\"#7201a8\"],[0.3333333333333333,\"#9c179e\"],[0.4444444444444444,\"#bd3786\"],[0.5555555555555556,\"#d8576b\"],[0.6666666666666666,\"#ed7953\"],[0.7777777777777778,\"#fb9f3a\"],[0.8888888888888888,\"#fdca26\"],[1.0,\"#f0f921\"]],\"type\":\"histogram2dcontour\"}],\"mesh3d\":[{\"colorbar\":{\"outlinewidth\":0,\"ticks\":\"\"},\"type\":\"mesh3d\"}],\"parcoords\":[{\"line\":{\"colorbar\":{\"outlinewidth\":0,\"ticks\":\"\"}},\"type\":\"parcoords\"}],\"pie\":[{\"automargin\":true,\"type\":\"pie\"}],\"scatter\":[{\"marker\":{\"colorbar\":{\"outlinewidth\":0,\"ticks\":\"\"}},\"type\":\"scatter\"}],\"scatter3d\":[{\"line\":{\"colorbar\":{\"outlinewidth\":0,\"ticks\":\"\"}},\"marker\":{\"colorbar\":{\"outlinewidth\":0,\"ticks\":\"\"}},\"type\":\"scatter3d\"}],\"scattercarpet\":[{\"marker\":{\"colorbar\":{\"outlinewidth\":0,\"ticks\":\"\"}},\"type\":\"scattercarpet\"}],\"scattergeo\":[{\"marker\":{\"colorbar\":{\"outlinewidth\":0,\"ticks\":\"\"}},\"type\":\"scattergeo\"}],\"scattergl\":[{\"marker\":{\"colorbar\":{\"outlinewidth\":0,\"ticks\":\"\"}},\"type\":\"scattergl\"}],\"scattermapbox\":[{\"marker\":{\"colorbar\":{\"outlinewidth\":0,\"ticks\":\"\"}},\"type\":\"scattermapbox\"}],\"scatterpolar\":[{\"marker\":{\"colorbar\":{\"outlinewidth\":0,\"ticks\":\"\"}},\"type\":\"scatterpolar\"}],\"scatterpolargl\":[{\"marker\":{\"colorbar\":{\"outlinewidth\":0,\"ticks\":\"\"}},\"type\":\"scatterpolargl\"}],\"scatterternary\":[{\"marker\":{\"colorbar\":{\"outlinewidth\":0,\"ticks\":\"\"}},\"type\":\"scatterternary\"}],\"surface\":[{\"colorbar\":{\"outlinewidth\":0,\"ticks\":\"\"},\"colorscale\":[[0.0,\"#0d0887\"],[0.1111111111111111,\"#46039f\"],[0.2222222222222222,\"#7201a8\"],[0.3333333333333333,\"#9c179e\"],[0.4444444444444444,\"#bd3786\"],[0.5555555555555556,\"#d8576b\"],[0.6666666666666666,\"#ed7953\"],[0.7777777777777778,\"#fb9f3a\"],[0.8888888888888888,\"#fdca26\"],[1.0,\"#f0f921\"]],\"type\":\"surface\"}],\"table\":[{\"cells\":{\"fill\":{\"color\":\"#EBF0F8\"},\"line\":{\"color\":\"white\"}},\"header\":{\"fill\":{\"color\":\"#C8D4E3\"},\"line\":{\"color\":\"white\"}},\"type\":\"table\"}]},\"layout\":{\"annotationdefaults\":{\"arrowcolor\":\"#2a3f5f\",\"arrowhead\":0,\"arrowwidth\":1},\"autotypenumbers\":\"strict\",\"coloraxis\":{\"colorbar\":{\"outlinewidth\":0,\"ticks\":\"\"}},\"colorscale\":{\"diverging\":[[0,\"#8e0152\"],[0.1,\"#c51b7d\"],[0.2,\"#de77ae\"],[0.3,\"#f1b6da\"],[0.4,\"#fde0ef\"],[0.5,\"#f7f7f7\"],[0.6,\"#e6f5d0\"],[0.7,\"#b8e186\"],[0.8,\"#7fbc41\"],[0.9,\"#4d9221\"],[1,\"#276419\"]],\"sequential\":[[0.0,\"#0d0887\"],[0.1111111111111111,\"#46039f\"],[0.2222222222222222,\"#7201a8\"],[0.3333333333333333,\"#9c179e\"],[0.4444444444444444,\"#bd3786\"],[0.5555555555555556,\"#d8576b\"],[0.6666666666666666,\"#ed7953\"],[0.7777777777777778,\"#fb9f3a\"],[0.8888888888888888,\"#fdca26\"],[1.0,\"#f0f921\"]],\"sequentialminus\":[[0.0,\"#0d0887\"],[0.1111111111111111,\"#46039f\"],[0.2222222222222222,\"#7201a8\"],[0.3333333333333333,\"#9c179e\"],[0.4444444444444444,\"#bd3786\"],[0.5555555555555556,\"#d8576b\"],[0.6666666666666666,\"#ed7953\"],[0.7777777777777778,\"#fb9f3a\"],[0.8888888888888888,\"#fdca26\"],[1.0,\"#f0f921\"]]},\"colorway\":[\"#636efa\",\"#EF553B\",\"#00cc96\",\"#ab63fa\",\"#FFA15A\",\"#19d3f3\",\"#FF6692\",\"#B6E880\",\"#FF97FF\",\"#FECB52\"],\"font\":{\"color\":\"#2a3f5f\"},\"geo\":{\"bgcolor\":\"white\",\"lakecolor\":\"white\",\"landcolor\":\"#E5ECF6\",\"showlakes\":true,\"showland\":true,\"subunitcolor\":\"white\"},\"hoverlabel\":{\"align\":\"left\"},\"hovermode\":\"closest\",\"mapbox\":{\"style\":\"light\"},\"paper_bgcolor\":\"white\",\"plot_bgcolor\":\"#E5ECF6\",\"polar\":{\"angularaxis\":{\"gridcolor\":\"white\",\"linecolor\":\"white\",\"ticks\":\"\"},\"bgcolor\":\"#E5ECF6\",\"radialaxis\":{\"gridcolor\":\"white\",\"linecolor\":\"white\",\"ticks\":\"\"}},\"scene\":{\"xaxis\":{\"backgroundcolor\":\"#E5ECF6\",\"gridcolor\":\"white\",\"gridwidth\":2,\"linecolor\":\"white\",\"showbackground\":true,\"ticks\":\"\",\"zerolinecolor\":\"white\"},\"yaxis\":{\"backgroundcolor\":\"#E5ECF6\",\"gridcolor\":\"white\",\"gridwidth\":2,\"linecolor\":\"white\",\"showbackground\":true,\"ticks\":\"\",\"zerolinecolor\":\"white\"},\"zaxis\":{\"backgroundcolor\":\"#E5ECF6\",\"gridcolor\":\"white\",\"gridwidth\":2,\"linecolor\":\"white\",\"showbackground\":true,\"ticks\":\"\",\"zerolinecolor\":\"white\"}},\"shapedefaults\":{\"line\":{\"color\":\"#2a3f5f\"}},\"ternary\":{\"aaxis\":{\"gridcolor\":\"white\",\"linecolor\":\"white\",\"ticks\":\"\"},\"baxis\":{\"gridcolor\":\"white\",\"linecolor\":\"white\",\"ticks\":\"\"},\"bgcolor\":\"#E5ECF6\",\"caxis\":{\"gridcolor\":\"white\",\"linecolor\":\"white\",\"ticks\":\"\"}},\"title\":{\"x\":0.05},\"xaxis\":{\"automargin\":true,\"gridcolor\":\"white\",\"linecolor\":\"white\",\"ticks\":\"\",\"title\":{\"standoff\":15},\"zerolinecolor\":\"white\",\"zerolinewidth\":2},\"yaxis\":{\"automargin\":true,\"gridcolor\":\"white\",\"linecolor\":\"white\",\"ticks\":\"\",\"title\":{\"standoff\":15},\"zerolinecolor\":\"white\",\"zerolinewidth\":2}}},\"legend\":{\"tracegroupgap\":0},\"title\":{\"text\":\"Rep vs Dem Count\"}},                        {\"responsive\": true}                    ).then(function(){\n",
              "                            \n",
              "var gd = document.getElementById('94c296da-cd5a-4ad3-8914-63321e8c8248');\n",
              "var x = new MutationObserver(function (mutations, observer) {{\n",
              "        var display = window.getComputedStyle(gd).display;\n",
              "        if (!display || display === 'none') {{\n",
              "            console.log([gd, 'removed!']);\n",
              "            Plotly.purge(gd);\n",
              "            observer.disconnect();\n",
              "        }}\n",
              "}});\n",
              "\n",
              "// Listen for the removal of the full notebook cells\n",
              "var notebookContainer = gd.closest('#notebook-container');\n",
              "if (notebookContainer) {{\n",
              "    x.observe(notebookContainer, {childList: true});\n",
              "}}\n",
              "\n",
              "// Listen for the clearing of the current output cell\n",
              "var outputEl = gd.closest('.output');\n",
              "if (outputEl) {{\n",
              "    x.observe(outputEl, {childList: true});\n",
              "}}\n",
              "\n",
              "                        })                };                            </script>        </div>\n",
              "</body>\n",
              "</html>"
            ]
          },
          "metadata": {}
        }
      ]
    },
    {
      "cell_type": "markdown",
      "source": [
        "Some details of our datset"
      ],
      "metadata": {
        "id": "8CDGBLtysuks"
      }
    },
    {
      "cell_type": "markdown",
      "source": [
        "* **17** columns \n",
        "* **1** target variable\n",
        "* **16** features\n",
        "* **435** records\n",
        "* No **NULL** values\n",
        "* All of **object** datatype\n",
        "* Target variable consists of two entries: **republican** and **democrat**\n",
        "* Feature variables consist of three entries: **y**, **n** and **?**\n",
        "* The **?** represents values that are neither yes or no.\n",
        "* More Democrats (**61%**) than Republicans (**39%**) in the dataset."
      ],
      "metadata": {
        "id": "wzEw5cMNvpsp"
      }
    },
    {
      "cell_type": "markdown",
      "source": [
        "## Data Cleaning\n",
        "\n",
        "Cleaning up our data, preparing it for our machine learning algorithms."
      ],
      "metadata": {
        "id": "6nAUaRnhvM9C"
      }
    },
    {
      "cell_type": "markdown",
      "source": [
        "Let's first convert our feature variables to a numerical type. We'll need this if we run a k-nearest neighbours (KNN) algorithm."
      ],
      "metadata": {
        "id": "i19Y1zCmvPr7"
      }
    },
    {
      "cell_type": "code",
      "metadata": {
        "id": "YhJRwxMp8Gxc"
      },
      "source": [
        "# Replace the **y** and **n** with numerical values\n",
        "votes.replace({\"y\" : 1 ,\"n\" : 0}, inplace = True)"
      ],
      "execution_count": 14,
      "outputs": []
    },
    {
      "cell_type": "markdown",
      "source": [
        "There are a few ways we could deal with our **?** values:\n",
        "\n",
        "1. Remove rows with ? values\n",
        "1. Remove columns with ? values\n",
        "1. Replace ? values with something\n",
        "\n",
        "We don't want to remove columns as this would remove almost all the features. Replacing could be an option. However, the simplest option would be to remove records containing ?. \n",
        "\n",
        "Let's see how many records we have remaining after removing records containing ?."
      ],
      "metadata": {
        "id": "7vdz8psYDPMM"
      }
    },
    {
      "cell_type": "code",
      "source": [
        "# Remvoing NA rows\n",
        "votes.replace('?', np.NaN).dropna()['party'].value_counts()"
      ],
      "metadata": {
        "id": "AFUrk0y0D_Rd",
        "outputId": "ec03262e-894c-48cc-edfa-f8793e9574ab",
        "colab": {
          "base_uri": "https://localhost:8080/"
        }
      },
      "execution_count": 15,
      "outputs": [
        {
          "output_type": "execute_result",
          "data": {
            "text/plain": [
              "democrat      124\n",
              "republican    108\n",
              "Name: party, dtype: int64"
            ]
          },
          "metadata": {},
          "execution_count": 15
        }
      ]
    },
    {
      "cell_type": "markdown",
      "source": [
        "It can be seen that we have significantly fewer records using this approach. Another approach is to replace the ? values with something.\n",
        "\n",
        "One option here is to replace them with nothing. This could cause issues for algorithms like KNN (algorithms that implement distance functions). \n",
        "\n",
        "Another option is to replace them with something like the `mode` (most common value of each row). This is what I've done.\n",
        "\n",
        "Note, this perhaps isn't the best way of doing it. We can't really infer the `?`votes based on what was answered for other votes, as there is likely no relationship there (from my understanding). Perahps the best solution would be to use something like KNN to to predict what the missing values should be. More on that [here](https://machinelearningmastery.com/knn-imputation-for-missing-values-in-machine-learning/). If I find time, I may give this a go.\n",
        "\n",
        "For now, I'll stick with the mode."
      ],
      "metadata": {
        "id": "xYDuqWxzFTi4"
      }
    },
    {
      "cell_type": "code",
      "source": [
        "votes.replace(\"?\", np.nan, inplace = True)\n",
        "votes = votes.T.fillna(votes.iloc[:,1:].astype(float).mode(axis=1)[0]).T"
      ],
      "metadata": {
        "id": "MZvp70z5Bd2U"
      },
      "execution_count": 16,
      "outputs": []
    },
    {
      "cell_type": "markdown",
      "source": [
        "From doing a bit more searching, we can see that one row had a lot of `?` and thus still retains many `NAN` values. We'll just remove this:"
      ],
      "metadata": {
        "id": "yFvK23TFX9nZ"
      }
    },
    {
      "cell_type": "code",
      "source": [
        "votes.iloc[248]"
      ],
      "metadata": {
        "id": "9wq2R2ZpXq2-",
        "outputId": "8d0e3caf-749c-4f69-ba6d-46a0276799b6",
        "colab": {
          "base_uri": "https://localhost:8080/"
        }
      },
      "execution_count": 17,
      "outputs": [
        {
          "output_type": "execute_result",
          "data": {
            "text/plain": [
              "party            republican\n",
              "hc-infants              NaN\n",
              "water-proj              NaN\n",
              "budget-reso             NaN\n",
              "fee-freeze              NaN\n",
              "salvador-aid            NaN\n",
              "relig-groups            NaN\n",
              "anti-satell             NaN\n",
              "nicar-contras           NaN\n",
              "mx-missile              NaN\n",
              "immigration             NaN\n",
              "syn-cutback             NaN\n",
              "edu-spending            NaN\n",
              "right-to-sue            NaN\n",
              "crime                   NaN\n",
              "dutyfree-expo           NaN\n",
              "admin-act-sou           NaN\n",
              "Name: 248, dtype: object"
            ]
          },
          "metadata": {},
          "execution_count": 17
        }
      ]
    },
    {
      "cell_type": "code",
      "source": [
        "votes = votes.drop(votes.index[248])"
      ],
      "metadata": {
        "id": "YRTo0-FNYHeA"
      },
      "execution_count": 18,
      "outputs": []
    },
    {
      "cell_type": "markdown",
      "source": [
        "Let's confirm we only have 2 unique values for each column and that there are no `nan` values."
      ],
      "metadata": {
        "id": "o4q7Gxrk821V"
      }
    },
    {
      "cell_type": "code",
      "source": [
        "votes.nunique()"
      ],
      "metadata": {
        "id": "atJ_f4h686yX",
        "outputId": "d730f428-8644-487b-e4cc-8562c6c81c7c",
        "colab": {
          "base_uri": "https://localhost:8080/"
        }
      },
      "execution_count": 19,
      "outputs": [
        {
          "output_type": "execute_result",
          "data": {
            "text/plain": [
              "party            2\n",
              "hc-infants       2\n",
              "water-proj       2\n",
              "budget-reso      2\n",
              "fee-freeze       2\n",
              "salvador-aid     2\n",
              "relig-groups     2\n",
              "anti-satell      2\n",
              "nicar-contras    2\n",
              "mx-missile       2\n",
              "immigration      2\n",
              "syn-cutback      2\n",
              "edu-spending     2\n",
              "right-to-sue     2\n",
              "crime            2\n",
              "dutyfree-expo    2\n",
              "admin-act-sou    2\n",
              "dtype: int64"
            ]
          },
          "metadata": {},
          "execution_count": 19
        }
      ]
    },
    {
      "cell_type": "code",
      "source": [
        "for col in votes:\n",
        "    print(votes[col].unique())"
      ],
      "metadata": {
        "id": "sVjvHg8uWFXm",
        "outputId": "86c2452f-eda0-4a0f-e47c-a3a719978d8b",
        "colab": {
          "base_uri": "https://localhost:8080/"
        }
      },
      "execution_count": 20,
      "outputs": [
        {
          "output_type": "stream",
          "name": "stdout",
          "text": [
            "['republican' 'democrat']\n",
            "[0.0 1.0]\n",
            "[1.0 0.0]\n",
            "[0.0 1.0]\n",
            "[1.0 0.0]\n",
            "[1.0 0.0]\n",
            "[1.0 0.0]\n",
            "[0.0 1.0]\n",
            "[0.0 1.0]\n",
            "[0.0 1.0]\n",
            "[1.0 0.0]\n",
            "[1.0 0.0]\n",
            "[1.0 0.0]\n",
            "[1.0 0.0]\n",
            "[1.0 0.0]\n",
            "[0.0 1.0]\n",
            "[1.0 0.0]\n"
          ]
        }
      ]
    },
    {
      "cell_type": "markdown",
      "source": [
        "Let's also convert all but the first column to a numeric datatype:"
      ],
      "metadata": {
        "id": "uuQz9x8i88hl"
      }
    },
    {
      "cell_type": "code",
      "source": [
        "cols = [i for i in votes.columns if i != 'party']\n",
        "for col in cols:\n",
        "    votes[col] = votes[col].astype(int)"
      ],
      "metadata": {
        "id": "a2Gv_zef7LFu"
      },
      "execution_count": 21,
      "outputs": []
    },
    {
      "cell_type": "code",
      "source": [
        "votes.info()"
      ],
      "metadata": {
        "id": "YRgXOlez8gWL",
        "outputId": "f323c932-2002-4740-c8cc-ed3d5ca2d674",
        "colab": {
          "base_uri": "https://localhost:8080/"
        }
      },
      "execution_count": 22,
      "outputs": [
        {
          "output_type": "stream",
          "name": "stdout",
          "text": [
            "<class 'pandas.core.frame.DataFrame'>\n",
            "Int64Index: 434 entries, 0 to 434\n",
            "Data columns (total 17 columns):\n",
            " #   Column         Non-Null Count  Dtype \n",
            "---  ------         --------------  ----- \n",
            " 0   party          434 non-null    object\n",
            " 1   hc-infants     434 non-null    int64 \n",
            " 2   water-proj     434 non-null    int64 \n",
            " 3   budget-reso    434 non-null    int64 \n",
            " 4   fee-freeze     434 non-null    int64 \n",
            " 5   salvador-aid   434 non-null    int64 \n",
            " 6   relig-groups   434 non-null    int64 \n",
            " 7   anti-satell    434 non-null    int64 \n",
            " 8   nicar-contras  434 non-null    int64 \n",
            " 9   mx-missile     434 non-null    int64 \n",
            " 10  immigration    434 non-null    int64 \n",
            " 11  syn-cutback    434 non-null    int64 \n",
            " 12  edu-spending   434 non-null    int64 \n",
            " 13  right-to-sue   434 non-null    int64 \n",
            " 14  crime          434 non-null    int64 \n",
            " 15  dutyfree-expo  434 non-null    int64 \n",
            " 16  admin-act-sou  434 non-null    int64 \n",
            "dtypes: int64(16), object(1)\n",
            "memory usage: 61.0+ KB\n"
          ]
        }
      ]
    },
    {
      "cell_type": "markdown",
      "source": [
        "Now let's visualise our data using `countplot`. This will give us an idea of the way republicans and democrats are voting on each issue."
      ],
      "metadata": {
        "id": "DlTgwiV59GOZ"
      }
    },
    {
      "cell_type": "code",
      "source": [
        "fig, ax = plt.subplots(4,4, figsize=(20, 20))\n",
        "count = 1\n",
        "for i in range(4):\n",
        "  for j in range(4):\n",
        "    sns.countplot(x = votes.columns[count], hue = 'party', data = votes, ax = ax[i, j])\n",
        "    count += 1\n",
        "fig.show()\n"
      ],
      "metadata": {
        "id": "MQHUZrQc0vzk",
        "outputId": "1bd29dcc-f2cf-41af-cb03-bb4bfef752b5",
        "colab": {
          "base_uri": "https://localhost:8080/",
          "height": 1000
        }
      },
      "execution_count": 23,
      "outputs": [
        {
          "output_type": "display_data",
          "data": {
            "image/png": "[encoded data removed]",
            "text/plain": [
              "<Figure size 1440x1440 with 16 Axes>"
            ]
          },
          "metadata": {
            "needs_background": "light"
          }
        }
      ]
    },
    {
      "cell_type": "code",
      "source": [
        ""
      ],
      "metadata": {
        "id": "ZQVqLovRUXdN"
      },
      "execution_count": 23,
      "outputs": []
    },
    {
      "cell_type": "markdown",
      "source": [
        "Let's now convert our target variable `party` to 0's and 1's:"
      ],
      "metadata": {
        "id": "jMsML_dM9FVP"
      }
    },
    {
      "cell_type": "code",
      "source": [
        "votes['party'] = np.where(votes['party'] == 'democrat', 1, 0)"
      ],
      "metadata": {
        "id": "7z5Z4SpeUd_-"
      },
      "execution_count": 24,
      "outputs": []
    },
    {
      "cell_type": "code",
      "source": [
        "votes.head()"
      ],
      "metadata": {
        "id": "YQyyJRvvU7RI",
        "outputId": "ce55032a-0f45-4a3d-b7e1-e818efaecff1",
        "colab": {
          "base_uri": "https://localhost:8080/",
          "height": 265
        }
      },
      "execution_count": 25,
      "outputs": [
        {
          "output_type": "execute_result",
          "data": {
            "text/html": [
              "\n",
              "  <div id=\"df-69676d8c-315e-41d7-a69b-837bacb3d77a\">\n",
              "    <div class=\"colab-df-container\">\n",
              "      <div>\n",
              "<style scoped>\n",
              "    .dataframe tbody tr th:only-of-type {\n",
              "        vertical-align: middle;\n",
              "    }\n",
              "\n",
              "    .dataframe tbody tr th {\n",
              "        vertical-align: top;\n",
              "    }\n",
              "\n",
              "    .dataframe thead th {\n",
              "        text-align: right;\n",
              "    }\n",
              "</style>\n",
              "<table border=\"1\" class=\"dataframe\">\n",
              "  <thead>\n",
              "    <tr style=\"text-align: right;\">\n",
              "      <th></th>\n",
              "      <th>party</th>\n",
              "      <th>hc-infants</th>\n",
              "      <th>water-proj</th>\n",
              "      <th>budget-reso</th>\n",
              "      <th>fee-freeze</th>\n",
              "      <th>salvador-aid</th>\n",
              "      <th>relig-groups</th>\n",
              "      <th>anti-satell</th>\n",
              "      <th>nicar-contras</th>\n",
              "      <th>mx-missile</th>\n",
              "      <th>immigration</th>\n",
              "      <th>syn-cutback</th>\n",
              "      <th>edu-spending</th>\n",
              "      <th>right-to-sue</th>\n",
              "      <th>crime</th>\n",
              "      <th>dutyfree-expo</th>\n",
              "      <th>admin-act-sou</th>\n",
              "    </tr>\n",
              "  </thead>\n",
              "  <tbody>\n",
              "    <tr>\n",
              "      <th>0</th>\n",
              "      <td>0</td>\n",
              "      <td>0</td>\n",
              "      <td>1</td>\n",
              "      <td>0</td>\n",
              "      <td>1</td>\n",
              "      <td>1</td>\n",
              "      <td>1</td>\n",
              "      <td>0</td>\n",
              "      <td>0</td>\n",
              "      <td>0</td>\n",
              "      <td>1</td>\n",
              "      <td>1</td>\n",
              "      <td>1</td>\n",
              "      <td>1</td>\n",
              "      <td>1</td>\n",
              "      <td>0</td>\n",
              "      <td>1</td>\n",
              "    </tr>\n",
              "    <tr>\n",
              "      <th>1</th>\n",
              "      <td>0</td>\n",
              "      <td>0</td>\n",
              "      <td>1</td>\n",
              "      <td>0</td>\n",
              "      <td>1</td>\n",
              "      <td>1</td>\n",
              "      <td>1</td>\n",
              "      <td>0</td>\n",
              "      <td>0</td>\n",
              "      <td>0</td>\n",
              "      <td>0</td>\n",
              "      <td>0</td>\n",
              "      <td>1</td>\n",
              "      <td>1</td>\n",
              "      <td>1</td>\n",
              "      <td>0</td>\n",
              "      <td>0</td>\n",
              "    </tr>\n",
              "    <tr>\n",
              "      <th>2</th>\n",
              "      <td>1</td>\n",
              "      <td>0</td>\n",
              "      <td>1</td>\n",
              "      <td>1</td>\n",
              "      <td>0</td>\n",
              "      <td>1</td>\n",
              "      <td>1</td>\n",
              "      <td>0</td>\n",
              "      <td>0</td>\n",
              "      <td>0</td>\n",
              "      <td>0</td>\n",
              "      <td>1</td>\n",
              "      <td>0</td>\n",
              "      <td>1</td>\n",
              "      <td>1</td>\n",
              "      <td>0</td>\n",
              "      <td>0</td>\n",
              "    </tr>\n",
              "    <tr>\n",
              "      <th>3</th>\n",
              "      <td>1</td>\n",
              "      <td>0</td>\n",
              "      <td>1</td>\n",
              "      <td>1</td>\n",
              "      <td>0</td>\n",
              "      <td>0</td>\n",
              "      <td>1</td>\n",
              "      <td>0</td>\n",
              "      <td>0</td>\n",
              "      <td>0</td>\n",
              "      <td>0</td>\n",
              "      <td>1</td>\n",
              "      <td>0</td>\n",
              "      <td>1</td>\n",
              "      <td>0</td>\n",
              "      <td>0</td>\n",
              "      <td>1</td>\n",
              "    </tr>\n",
              "    <tr>\n",
              "      <th>4</th>\n",
              "      <td>1</td>\n",
              "      <td>1</td>\n",
              "      <td>1</td>\n",
              "      <td>1</td>\n",
              "      <td>0</td>\n",
              "      <td>1</td>\n",
              "      <td>1</td>\n",
              "      <td>0</td>\n",
              "      <td>0</td>\n",
              "      <td>0</td>\n",
              "      <td>0</td>\n",
              "      <td>1</td>\n",
              "      <td>1</td>\n",
              "      <td>1</td>\n",
              "      <td>1</td>\n",
              "      <td>1</td>\n",
              "      <td>1</td>\n",
              "    </tr>\n",
              "  </tbody>\n",
              "</table>\n",
              "</div>\n",
              "      <button class=\"colab-df-convert\" onclick=\"convertToInteractive('df-69676d8c-315e-41d7-a69b-837bacb3d77a')\"\n",
              "              title=\"Convert this dataframe to an interactive table.\"\n",
              "              style=\"display:none;\">\n",
              "        \n",
              "  <svg xmlns=\"http://www.w3.org/2000/svg\" height=\"24px\"viewBox=\"0 0 24 24\"\n",
              "       width=\"24px\">\n",
              "    <path d=\"M0 0h24v24H0V0z\" fill=\"none\"/>\n",
              "    <path d=\"M18.56 5.44l.94 2.06.94-2.06 2.06-.94-2.06-.94-.94-2.06-.94 2.06-2.06.94zm-11 1L8.5 8.5l.94-2.06 2.06-.94-2.06-.94L8.5 2.5l-.94 2.06-2.06.94zm10 10l.94 2.06.94-2.06 2.06-.94-2.06-.94-.94-2.06-.94 2.06-2.06.94z\"/><path d=\"M17.41 7.96l-1.37-1.37c-.4-.4-.92-.59-1.43-.59-.52 0-1.04.2-1.43.59L10.3 9.45l-7.72 7.72c-.78.78-.78 2.05 0 2.83L4 21.41c.39.39.9.59 1.41.59.51 0 1.02-.2 1.41-.59l7.78-7.78 2.81-2.81c.8-.78.8-2.07 0-2.86zM5.41 20L4 18.59l7.72-7.72 1.47 1.35L5.41 20z\"/>\n",
              "  </svg>\n",
              "      </button>\n",
              "      \n",
              "  <style>\n",
              "    .colab-df-container {\n",
              "      display:flex;\n",
              "      flex-wrap:wrap;\n",
              "      gap: 12px;\n",
              "    }\n",
              "\n",
              "    .colab-df-convert {\n",
              "      background-color: #E8F0FE;\n",
              "      border: none;\n",
              "      border-radius: 50%;\n",
              "      cursor: pointer;\n",
              "      display: none;\n",
              "      fill: #1967D2;\n",
              "      height: 32px;\n",
              "      padding: 0 0 0 0;\n",
              "      width: 32px;\n",
              "    }\n",
              "\n",
              "    .colab-df-convert:hover {\n",
              "      background-color: #E2EBFA;\n",
              "      box-shadow: 0px 1px 2px rgba(60, 64, 67, 0.3), 0px 1px 3px 1px rgba(60, 64, 67, 0.15);\n",
              "      fill: #174EA6;\n",
              "    }\n",
              "\n",
              "    [theme=dark] .colab-df-convert {\n",
              "      background-color: #3B4455;\n",
              "      fill: #D2E3FC;\n",
              "    }\n",
              "\n",
              "    [theme=dark] .colab-df-convert:hover {\n",
              "      background-color: #434B5C;\n",
              "      box-shadow: 0px 1px 3px 1px rgba(0, 0, 0, 0.15);\n",
              "      filter: drop-shadow(0px 1px 2px rgba(0, 0, 0, 0.3));\n",
              "      fill: #FFFFFF;\n",
              "    }\n",
              "  </style>\n",
              "\n",
              "      <script>\n",
              "        const buttonEl =\n",
              "          document.querySelector('#df-69676d8c-315e-41d7-a69b-837bacb3d77a button.colab-df-convert');\n",
              "        buttonEl.style.display =\n",
              "          google.colab.kernel.accessAllowed ? 'block' : 'none';\n",
              "\n",
              "        async function convertToInteractive(key) {\n",
              "          const element = document.querySelector('#df-69676d8c-315e-41d7-a69b-837bacb3d77a');\n",
              "          const dataTable =\n",
              "            await google.colab.kernel.invokeFunction('convertToInteractive',\n",
              "                                                     [key], {});\n",
              "          if (!dataTable) return;\n",
              "\n",
              "          const docLinkHtml = 'Like what you see? Visit the ' +\n",
              "            '<a target=\"_blank\" href=https://colab.research.google.com/notebooks/data_table.ipynb>data table notebook</a>'\n",
              "            + ' to learn more about interactive tables.';\n",
              "          element.innerHTML = '';\n",
              "          dataTable['output_type'] = 'display_data';\n",
              "          await google.colab.output.renderOutput(dataTable, element);\n",
              "          const docLink = document.createElement('div');\n",
              "          docLink.innerHTML = docLinkHtml;\n",
              "          element.appendChild(docLink);\n",
              "        }\n",
              "      </script>\n",
              "    </div>\n",
              "  </div>\n",
              "  "
            ],
            "text/plain": [
              "   party  hc-infants  water-proj  ...  crime  dutyfree-expo  admin-act-sou\n",
              "0      0           0           1  ...      1              0              1\n",
              "1      0           0           1  ...      1              0              0\n",
              "2      1           0           1  ...      1              0              0\n",
              "3      1           0           1  ...      0              0              1\n",
              "4      1           1           1  ...      1              1              1\n",
              "\n",
              "[5 rows x 17 columns]"
            ]
          },
          "metadata": {},
          "execution_count": 25
        }
      ]
    },
    {
      "cell_type": "markdown",
      "source": [
        "## AI Algorithms\n",
        "\n",
        "Here we'll run our data through a couple of algorithms, speicially machine learning algorithms: Decision Tree & KNN. "
      ],
      "metadata": {
        "id": "HVbDreyI1afC"
      }
    },
    {
      "cell_type": "markdown",
      "source": [
        "### Decision Tree\n",
        "\n",
        "Let's start with a decision tree, sometimes knows as CART (classification and regression trees).\n",
        "\n",
        "I'll use something called Information Gain, which will be used to select the attributes at each level of our tree. The attribute at the top of our Decision Tree (or root node) should be the attribute holding the most \"information\".\n",
        "\n",
        "Another way of putting it is that attributes with less information, have less entropy. \n",
        "\n",
        "We can also select attributes at each level using something called the Gini Index, or Gini Impurity. This is similar to Informtion Gain."
      ],
      "metadata": {
        "id": "tOqClNtN2U4s"
      }
    },
    {
      "cell_type": "code",
      "source": [
        "# Our Feature Variables\n",
        "X = votes.drop(['party'], axis = 1)\n",
        "\n",
        "# Our Target Variable\n",
        "Y = votes['party']"
      ],
      "metadata": {
        "id": "Z1T0GhzZBQUK"
      },
      "execution_count": 102,
      "outputs": []
    },
    {
      "cell_type": "markdown",
      "source": [
        "We'll want to test our model on completely unseen data once we've put it together. For that, we can split our current data into a training and testing set. I'll add a random state to control the shuffling applied to data before we split. I'll also add the stratify parameter."
      ],
      "metadata": {
        "id": "HqdSNYw4BvDb"
      }
    },
    {
      "cell_type": "code",
      "source": [
        "# Split our data\n",
        "x_train, x_test, y_train, y_test = train_test_split(X, Y, test_size = .33, stratify = Y, random_state = 10)"
      ],
      "metadata": {
        "id": "OKoBwduyBs2c"
      },
      "execution_count": 103,
      "outputs": []
    },
    {
      "cell_type": "code",
      "source": [
        "# Create decision tree object\n",
        "decision_tree_classifier = DecisionTreeClassifier()"
      ],
      "metadata": {
        "id": "60RyLpVGDT9u"
      },
      "execution_count": 104,
      "outputs": []
    },
    {
      "cell_type": "markdown",
      "source": [
        "We'll also run an exhaustive search over specified parameters. This will evaulate our model for every combination of parameters - and saves us a bit of work when it comes to tuning our model, hopefully.\n",
        "\n",
        "We'll have it try both `gini` and `information gain` to select attributes at each level of our tree.\n",
        "\n",
        "We'll pass it a number of `max depth` numbers. This controls how big our tree can grow. Too high, we'll overfit our training data - which means it won't perform well on our unseen test data. Too low, we'll underfit and not capture relevant patterns.\n",
        "\n",
        "By default, 5-fold cross validation will be applied, which I'll just leave.\n",
        "\n",
        "I'll also set scoring to `accuracy`. This is a failry basic metric, and is basically the number of correct predictions over the toal number of predictions made. It'll be okay for our purposes."
      ],
      "metadata": {
        "id": "hmuRM456KJPp"
      }
    },
    {
      "cell_type": "code",
      "source": [
        "# Our parameters\n",
        "parameters = {'criterion' : ['gini', 'entropy'],\n",
        "              'max_depth' : [3, 6, 9, 12, 15, 18, 21, 24, 27, 30]\n",
        "              }"
      ],
      "metadata": {
        "id": "rkhwBBmqKEg5"
      },
      "execution_count": 105,
      "outputs": []
    },
    {
      "cell_type": "code",
      "source": [
        "# Grid Search \n",
        "dt = GridSearchCV(decision_tree_classifier, parameters, scoring = 'accuracy')"
      ],
      "metadata": {
        "id": "8eYDY6ByM49I"
      },
      "execution_count": 106,
      "outputs": []
    },
    {
      "cell_type": "code",
      "source": [
        "# Fit out model \n",
        "dt.fit(x_train, y_train)"
      ],
      "metadata": {
        "id": "rg4cPXmIPa8X",
        "outputId": "fa7d4756-fb7f-48d1-84f8-e4b74d5592fb",
        "colab": {
          "base_uri": "https://localhost:8080/"
        }
      },
      "execution_count": 107,
      "outputs": [
        {
          "output_type": "execute_result",
          "data": {
            "text/plain": [
              "GridSearchCV(estimator=DecisionTreeClassifier(),\n",
              "             param_grid={'criterion': ['gini', 'entropy'],\n",
              "                         'max_depth': [3, 6, 9, 12, 15, 18, 21, 24, 27, 30]},\n",
              "             scoring='accuracy')"
            ]
          },
          "metadata": {},
          "execution_count": 107
        }
      ]
    },
    {
      "cell_type": "code",
      "source": [
        "# Our best accuracy score from the above\n",
        "dt.best_score_"
      ],
      "metadata": {
        "id": "oGZ1TjCnPsKB",
        "outputId": "b7cc43f2-51c6-44d0-f75a-5cda7222d367",
        "colab": {
          "base_uri": "https://localhost:8080/"
        }
      },
      "execution_count": 108,
      "outputs": [
        {
          "output_type": "execute_result",
          "data": {
            "text/plain": [
              "0.9655172413793103"
            ]
          },
          "metadata": {},
          "execution_count": 108
        }
      ]
    },
    {
      "cell_type": "code",
      "source": [
        "# Parameters used to generate our score\n",
        "dt.best_params_"
      ],
      "metadata": {
        "id": "W2T391YbQQeh",
        "outputId": "501cbf7d-4210-48a5-b598-31ef51e175d8",
        "colab": {
          "base_uri": "https://localhost:8080/"
        }
      },
      "execution_count": 109,
      "outputs": [
        {
          "output_type": "execute_result",
          "data": {
            "text/plain": [
              "{'criterion': 'entropy', 'max_depth': 3}"
            ]
          },
          "metadata": {},
          "execution_count": 109
        }
      ]
    },
    {
      "cell_type": "markdown",
      "source": [
        "Let's now test our model on the unnseen test data"
      ],
      "metadata": {
        "id": "SbE46rqfTpUS"
      }
    },
    {
      "cell_type": "code",
      "source": [
        "y_prediction = dt.predict(x_test)\n",
        "accuracy_score(y_test, y_prediction)"
      ],
      "metadata": {
        "id": "sopQ300bSsQP",
        "outputId": "0e4c1f45-3259-4ffb-f02f-776df49a0081",
        "colab": {
          "base_uri": "https://localhost:8080/"
        }
      },
      "execution_count": 34,
      "outputs": [
        {
          "output_type": "execute_result",
          "data": {
            "text/plain": [
              "0.9444444444444444"
            ]
          },
          "metadata": {},
          "execution_count": 34
        }
      ]
    },
    {
      "cell_type": "markdown",
      "source": [
        "We can also calculate the accuracy for the training set. I believe this is different from `dt.best_score_` as the latter calculates the score based on a particular fold in the data (during cross validation)."
      ],
      "metadata": {
        "id": "3V9soeVzDYPN"
      }
    },
    {
      "cell_type": "code",
      "source": [
        "y_prediction_train = dt.predict(x_train)\n",
        "accuracy_score(y_train, y_prediction_train)"
      ],
      "metadata": {
        "id": "4MClGIZkCuXa",
        "outputId": "b69eb482-b0fd-46b4-d1b1-199c977e2a81",
        "colab": {
          "base_uri": "https://localhost:8080/"
        }
      },
      "execution_count": 110,
      "outputs": [
        {
          "output_type": "execute_result",
          "data": {
            "text/plain": [
              "0.9724137931034482"
            ]
          },
          "metadata": {},
          "execution_count": 110
        }
      ]
    },
    {
      "cell_type": "markdown",
      "source": [
        "Looks like we have a really good model here, where both the test and training data have high accuracy scores.\n",
        "\n",
        "Let's now visualise our tree with `graphviz`"
      ],
      "metadata": {
        "id": "5g1hjFP1UQqM"
      }
    },
    {
      "cell_type": "code",
      "source": [
        "\n",
        "y_train_string = np.where(y_train == 1, 'democrat', 'republican')\n",
        "data = tree.export_graphviz(dt.best_estimator_, \n",
        "                            out_file=None, \n",
        "                            feature_names=x_train.columns, \n",
        "                            class_names=y_train_string, \n",
        "                            filled=True, \n",
        "                            rounded=True, \n",
        "                            special_characters=True)\n",
        "\n",
        "graph = gvz.Source(data) \n",
        "\n",
        "graph "
      ],
      "metadata": {
        "id": "6FH_Hp1HUcpH",
        "outputId": "b54835d3-f368-434d-9c93-0a0d1022165a",
        "colab": {
          "base_uri": "https://localhost:8080/",
          "height": 598
        }
      },
      "execution_count": 35,
      "outputs": [
        {
          "output_type": "execute_result",
          "data": {
            "text/plain": [
              "<graphviz.files.Source at 0x7f7e18142d50>"
            ],
            "image/svg+xml": "<?xml version=\"1.0\" encoding=\"UTF-8\" standalone=\"no\"?>\n<!DOCTYPE svg PUBLIC \"-//W3C//DTD SVG 1.1//EN\"\n \"http://www.w3.org/Graphics/SVG/1.1/DTD/svg11.dtd\">\n<!-- Generated by graphviz version 2.40.1 (20161225.0304)\n -->\n<!-- Title: Tree Pages: 1 -->\n<svg width=\"867pt\" height=\"433pt\"\n viewBox=\"0.00 0.00 867.00 433.00\" xmlns=\"http://www.w3.org/2000/svg\" xmlns:xlink=\"http://www.w3.org/1999/xlink\">\n<g id=\"graph0\" class=\"graph\" transform=\"scale(1 1) rotate(0) translate(4 429)\">\n<title>Tree</title>\n<polygon fill=\"#ffffff\" stroke=\"transparent\" points=\"-4,4 -4,-429 863,-429 863,4 -4,4\"/>\n<!-- 0 -->\n<g id=\"node1\" class=\"node\">\n<title>0</title>\n<path fill=\"#b6dbf5\" stroke=\"#000000\" d=\"M482.5,-425C482.5,-425 374.5,-425 374.5,-425 368.5,-425 362.5,-419 362.5,-413 362.5,-413 362.5,-354 362.5,-354 362.5,-348 368.5,-342 374.5,-342 374.5,-342 482.5,-342 482.5,-342 488.5,-342 494.5,-348 494.5,-354 494.5,-354 494.5,-413 494.5,-413 494.5,-419 488.5,-425 482.5,-425\"/>\n<text text-anchor=\"start\" x=\"378\" y=\"-409.8\" font-family=\"Helvetica,sans-Serif\" font-size=\"14.00\" fill=\"#000000\">fee&#45;freeze ≤ 0.5</text>\n<text text-anchor=\"start\" x=\"377.5\" y=\"-394.8\" font-family=\"Helvetica,sans-Serif\" font-size=\"14.00\" fill=\"#000000\">entropy = 0.962</text>\n<text text-anchor=\"start\" x=\"380.5\" y=\"-379.8\" font-family=\"Helvetica,sans-Serif\" font-size=\"14.00\" fill=\"#000000\">samples = 290</text>\n<text text-anchor=\"start\" x=\"370.5\" y=\"-364.8\" font-family=\"Helvetica,sans-Serif\" font-size=\"14.00\" fill=\"#000000\">value = [112, 178]</text>\n<text text-anchor=\"start\" x=\"373\" y=\"-349.8\" font-family=\"Helvetica,sans-Serif\" font-size=\"14.00\" fill=\"#000000\">class = democrat</text>\n</g>\n<!-- 1 -->\n<g id=\"node2\" class=\"node\">\n<title>1</title>\n<path fill=\"#3a9ee5\" stroke=\"#000000\" d=\"M407.5,-306C407.5,-306 301.5,-306 301.5,-306 295.5,-306 289.5,-300 289.5,-294 289.5,-294 289.5,-235 289.5,-235 289.5,-229 295.5,-223 301.5,-223 301.5,-223 407.5,-223 407.5,-223 413.5,-223 419.5,-229 419.5,-235 419.5,-235 419.5,-294 419.5,-294 419.5,-300 413.5,-306 407.5,-306\"/>\n<text text-anchor=\"start\" x=\"297.5\" y=\"-290.8\" font-family=\"Helvetica,sans-Serif\" font-size=\"14.00\" fill=\"#000000\">budget&#45;reso ≤ 0.5</text>\n<text text-anchor=\"start\" x=\"303.5\" y=\"-275.8\" font-family=\"Helvetica,sans-Serif\" font-size=\"14.00\" fill=\"#000000\">entropy = 0.053</text>\n<text text-anchor=\"start\" x=\"306.5\" y=\"-260.8\" font-family=\"Helvetica,sans-Serif\" font-size=\"14.00\" fill=\"#000000\">samples = 165</text>\n<text text-anchor=\"start\" x=\"304.5\" y=\"-245.8\" font-family=\"Helvetica,sans-Serif\" font-size=\"14.00\" fill=\"#000000\">value = [1, 164]</text>\n<text text-anchor=\"start\" x=\"299\" y=\"-230.8\" font-family=\"Helvetica,sans-Serif\" font-size=\"14.00\" fill=\"#000000\">class = democrat</text>\n</g>\n<!-- 0&#45;&gt;1 -->\n<g id=\"edge1\" class=\"edge\">\n<title>0&#45;&gt;1</title>\n<path fill=\"none\" stroke=\"#000000\" d=\"M402.6184,-341.8796C397.1858,-333.1434 391.4008,-323.8404 385.7947,-314.8253\"/>\n<polygon fill=\"#000000\" stroke=\"#000000\" points=\"388.7451,-312.9418 380.4921,-306.2981 382.8007,-316.6383 388.7451,-312.9418\"/>\n<text text-anchor=\"middle\" x=\"374.8153\" y=\"-326.945\" font-family=\"Helvetica,sans-Serif\" font-size=\"14.00\" fill=\"#000000\">True</text>\n</g>\n<!-- 6 -->\n<g id=\"node7\" class=\"node\">\n<title>6</title>\n<path fill=\"#e89152\" stroke=\"#000000\" d=\"M557,-306C557,-306 450,-306 450,-306 444,-306 438,-300 438,-294 438,-294 438,-235 438,-235 438,-229 444,-223 450,-223 450,-223 557,-223 557,-223 563,-223 569,-229 569,-235 569,-235 569,-294 569,-294 569,-300 563,-306 557,-306\"/>\n<text text-anchor=\"start\" x=\"446\" y=\"-290.8\" font-family=\"Helvetica,sans-Serif\" font-size=\"14.00\" fill=\"#000000\">syn&#45;cutback ≤ 0.5</text>\n<text text-anchor=\"start\" x=\"452.5\" y=\"-275.8\" font-family=\"Helvetica,sans-Serif\" font-size=\"14.00\" fill=\"#000000\">entropy = 0.506</text>\n<text text-anchor=\"start\" x=\"455.5\" y=\"-260.8\" font-family=\"Helvetica,sans-Serif\" font-size=\"14.00\" fill=\"#000000\">samples = 125</text>\n<text text-anchor=\"start\" x=\"449.5\" y=\"-245.8\" font-family=\"Helvetica,sans-Serif\" font-size=\"14.00\" fill=\"#000000\">value = [111, 14]</text>\n<text text-anchor=\"start\" x=\"448\" y=\"-230.8\" font-family=\"Helvetica,sans-Serif\" font-size=\"14.00\" fill=\"#000000\">class = democrat</text>\n</g>\n<!-- 0&#45;&gt;6 -->\n<g id=\"edge6\" class=\"edge\">\n<title>0&#45;&gt;6</title>\n<path fill=\"none\" stroke=\"#000000\" d=\"M454.7314,-341.8796C460.2373,-333.1434 466.1006,-323.8404 471.7824,-314.8253\"/>\n<polygon fill=\"#000000\" stroke=\"#000000\" points=\"474.7857,-316.6242 477.1567,-306.2981 468.8637,-312.8919 474.7857,-316.6242\"/>\n<text text-anchor=\"middle\" x=\"482.6863\" y=\"-326.9789\" font-family=\"Helvetica,sans-Serif\" font-size=\"14.00\" fill=\"#000000\">False</text>\n</g>\n<!-- 2 -->\n<g id=\"node3\" class=\"node\">\n<title>2</title>\n<path fill=\"#42a2e6\" stroke=\"#000000\" d=\"M261.5,-187C261.5,-187 141.5,-187 141.5,-187 135.5,-187 129.5,-181 129.5,-175 129.5,-175 129.5,-116 129.5,-116 129.5,-110 135.5,-104 141.5,-104 141.5,-104 261.5,-104 261.5,-104 267.5,-104 273.5,-110 273.5,-116 273.5,-116 273.5,-175 273.5,-175 273.5,-181 267.5,-187 261.5,-187\"/>\n<text text-anchor=\"start\" x=\"137.5\" y=\"-171.8\" font-family=\"Helvetica,sans-Serif\" font-size=\"14.00\" fill=\"#000000\">admin&#45;act&#45;sou ≤ 0.5</text>\n<text text-anchor=\"start\" x=\"150.5\" y=\"-156.8\" font-family=\"Helvetica,sans-Serif\" font-size=\"14.00\" fill=\"#000000\">entropy = 0.267</text>\n<text text-anchor=\"start\" x=\"157.5\" y=\"-141.8\" font-family=\"Helvetica,sans-Serif\" font-size=\"14.00\" fill=\"#000000\">samples = 22</text>\n<text text-anchor=\"start\" x=\"156\" y=\"-126.8\" font-family=\"Helvetica,sans-Serif\" font-size=\"14.00\" fill=\"#000000\">value = [1, 21]</text>\n<text text-anchor=\"start\" x=\"146\" y=\"-111.8\" font-family=\"Helvetica,sans-Serif\" font-size=\"14.00\" fill=\"#000000\">class = democrat</text>\n</g>\n<!-- 1&#45;&gt;2 -->\n<g id=\"edge2\" class=\"edge\">\n<title>1&#45;&gt;2</title>\n<path fill=\"none\" stroke=\"#000000\" d=\"M300.988,-222.8796C288.7588,-213.368 275.6656,-203.1843 263.1268,-193.432\"/>\n<polygon fill=\"#000000\" stroke=\"#000000\" points=\"265.0241,-190.4736 254.9818,-187.0969 260.7265,-195.9991 265.0241,-190.4736\"/>\n</g>\n<!-- 5 -->\n<g id=\"node6\" class=\"node\">\n<title>5</title>\n<path fill=\"#399de5\" stroke=\"#000000\" d=\"M407,-179.5C407,-179.5 304,-179.5 304,-179.5 298,-179.5 292,-173.5 292,-167.5 292,-167.5 292,-123.5 292,-123.5 292,-117.5 298,-111.5 304,-111.5 304,-111.5 407,-111.5 407,-111.5 413,-111.5 419,-117.5 419,-123.5 419,-123.5 419,-167.5 419,-167.5 419,-173.5 413,-179.5 407,-179.5\"/>\n<text text-anchor=\"start\" x=\"313\" y=\"-164.3\" font-family=\"Helvetica,sans-Serif\" font-size=\"14.00\" fill=\"#000000\">entropy = 0.0</text>\n<text text-anchor=\"start\" x=\"307.5\" y=\"-149.3\" font-family=\"Helvetica,sans-Serif\" font-size=\"14.00\" fill=\"#000000\">samples = 143</text>\n<text text-anchor=\"start\" x=\"305.5\" y=\"-134.3\" font-family=\"Helvetica,sans-Serif\" font-size=\"14.00\" fill=\"#000000\">value = [0, 143]</text>\n<text text-anchor=\"start\" x=\"300\" y=\"-119.3\" font-family=\"Helvetica,sans-Serif\" font-size=\"14.00\" fill=\"#000000\">class = democrat</text>\n</g>\n<!-- 1&#45;&gt;5 -->\n<g id=\"edge5\" class=\"edge\">\n<title>1&#45;&gt;5</title>\n<path fill=\"none\" stroke=\"#000000\" d=\"M354.8498,-222.8796C354.9394,-212.2134 355.0361,-200.7021 355.1269,-189.9015\"/>\n<polygon fill=\"#000000\" stroke=\"#000000\" points=\"358.6274,-189.844 355.2116,-179.8149 351.6276,-189.7851 358.6274,-189.844\"/>\n</g>\n<!-- 3 -->\n<g id=\"node4\" class=\"node\">\n<title>3</title>\n<path fill=\"#61b1ea\" stroke=\"#000000\" d=\"M115,-68C115,-68 12,-68 12,-68 6,-68 0,-62 0,-56 0,-56 0,-12 0,-12 0,-6 6,0 12,0 12,0 115,0 115,0 121,0 127,-6 127,-12 127,-12 127,-56 127,-56 127,-62 121,-68 115,-68\"/>\n<text text-anchor=\"start\" x=\"16.5\" y=\"-52.8\" font-family=\"Helvetica,sans-Serif\" font-size=\"14.00\" fill=\"#000000\">entropy = 0.65</text>\n<text text-anchor=\"start\" x=\"24\" y=\"-37.8\" font-family=\"Helvetica,sans-Serif\" font-size=\"14.00\" fill=\"#000000\">samples = 6</text>\n<text text-anchor=\"start\" x=\"22\" y=\"-22.8\" font-family=\"Helvetica,sans-Serif\" font-size=\"14.00\" fill=\"#000000\">value = [1, 5]</text>\n<text text-anchor=\"start\" x=\"8\" y=\"-7.8\" font-family=\"Helvetica,sans-Serif\" font-size=\"14.00\" fill=\"#000000\">class = democrat</text>\n</g>\n<!-- 2&#45;&gt;3 -->\n<g id=\"edge3\" class=\"edge\">\n<title>2&#45;&gt;3</title>\n<path fill=\"none\" stroke=\"#000000\" d=\"M150.1139,-103.9815C138.2839,-94.4232 125.7136,-84.2668 113.9249,-74.7419\"/>\n<polygon fill=\"#000000\" stroke=\"#000000\" points=\"115.8851,-71.826 105.9071,-68.2637 111.4858,-77.2708 115.8851,-71.826\"/>\n</g>\n<!-- 4 -->\n<g id=\"node5\" class=\"node\">\n<title>4</title>\n<path fill=\"#399de5\" stroke=\"#000000\" d=\"M260,-68C260,-68 157,-68 157,-68 151,-68 145,-62 145,-56 145,-56 145,-12 145,-12 145,-6 151,0 157,0 157,0 260,0 260,0 266,0 272,-6 272,-12 272,-12 272,-56 272,-56 272,-62 266,-68 260,-68\"/>\n<text text-anchor=\"start\" x=\"166\" y=\"-52.8\" font-family=\"Helvetica,sans-Serif\" font-size=\"14.00\" fill=\"#000000\">entropy = 0.0</text>\n<text text-anchor=\"start\" x=\"164.5\" y=\"-37.8\" font-family=\"Helvetica,sans-Serif\" font-size=\"14.00\" fill=\"#000000\">samples = 16</text>\n<text text-anchor=\"start\" x=\"163\" y=\"-22.8\" font-family=\"Helvetica,sans-Serif\" font-size=\"14.00\" fill=\"#000000\">value = [0, 16]</text>\n<text text-anchor=\"start\" x=\"153\" y=\"-7.8\" font-family=\"Helvetica,sans-Serif\" font-size=\"14.00\" fill=\"#000000\">class = democrat</text>\n</g>\n<!-- 2&#45;&gt;4 -->\n<g id=\"edge4\" class=\"edge\">\n<title>2&#45;&gt;4</title>\n<path fill=\"none\" stroke=\"#000000\" d=\"M204.1065,-103.9815C204.6316,-95.618 205.1854,-86.7965 205.7163,-78.3409\"/>\n<polygon fill=\"#000000\" stroke=\"#000000\" points=\"209.2154,-78.4634 206.3489,-68.2637 202.2291,-78.0247 209.2154,-78.4634\"/>\n</g>\n<!-- 7 -->\n<g id=\"node8\" class=\"node\">\n<title>7</title>\n<path fill=\"#e6843d\" stroke=\"#000000\" d=\"M556.5,-187C556.5,-187 450.5,-187 450.5,-187 444.5,-187 438.5,-181 438.5,-175 438.5,-175 438.5,-116 438.5,-116 438.5,-110 444.5,-104 450.5,-104 450.5,-104 556.5,-104 556.5,-104 562.5,-104 568.5,-110 568.5,-116 568.5,-116 568.5,-175 568.5,-175 568.5,-181 562.5,-187 556.5,-187\"/>\n<text text-anchor=\"start\" x=\"446.5\" y=\"-171.8\" font-family=\"Helvetica,sans-Serif\" font-size=\"14.00\" fill=\"#000000\">budget&#45;reso ≤ 0.5</text>\n<text text-anchor=\"start\" x=\"452.5\" y=\"-156.8\" font-family=\"Helvetica,sans-Serif\" font-size=\"14.00\" fill=\"#000000\">entropy = 0.143</text>\n<text text-anchor=\"start\" x=\"459.5\" y=\"-141.8\" font-family=\"Helvetica,sans-Serif\" font-size=\"14.00\" fill=\"#000000\">samples = 99</text>\n<text text-anchor=\"start\" x=\"458\" y=\"-126.8\" font-family=\"Helvetica,sans-Serif\" font-size=\"14.00\" fill=\"#000000\">value = [97, 2]</text>\n<text text-anchor=\"start\" x=\"448\" y=\"-111.8\" font-family=\"Helvetica,sans-Serif\" font-size=\"14.00\" fill=\"#000000\">class = democrat</text>\n</g>\n<!-- 6&#45;&gt;7 -->\n<g id=\"edge7\" class=\"edge\">\n<title>6&#45;&gt;7</title>\n<path fill=\"none\" stroke=\"#000000\" d=\"M503.5,-222.8796C503.5,-214.6838 503.5,-205.9891 503.5,-197.5013\"/>\n<polygon fill=\"#000000\" stroke=\"#000000\" points=\"507.0001,-197.298 503.5,-187.2981 500.0001,-197.2981 507.0001,-197.298\"/>\n</g>\n<!-- 10 -->\n<g id=\"node11\" class=\"node\">\n<title>10</title>\n<path fill=\"#fbede3\" stroke=\"#000000\" d=\"M702,-187C702,-187 599,-187 599,-187 593,-187 587,-181 587,-175 587,-175 587,-116 587,-116 587,-110 593,-104 599,-104 599,-104 702,-104 702,-104 708,-104 714,-110 714,-116 714,-116 714,-175 714,-175 714,-181 708,-187 702,-187\"/>\n<text text-anchor=\"start\" x=\"598.5\" y=\"-171.8\" font-family=\"Helvetica,sans-Serif\" font-size=\"14.00\" fill=\"#000000\">mx&#45;missile ≤ 0.5</text>\n<text text-anchor=\"start\" x=\"599.5\" y=\"-156.8\" font-family=\"Helvetica,sans-Serif\" font-size=\"14.00\" fill=\"#000000\">entropy = 0.996</text>\n<text text-anchor=\"start\" x=\"606.5\" y=\"-141.8\" font-family=\"Helvetica,sans-Serif\" font-size=\"14.00\" fill=\"#000000\">samples = 26</text>\n<text text-anchor=\"start\" x=\"600.5\" y=\"-126.8\" font-family=\"Helvetica,sans-Serif\" font-size=\"14.00\" fill=\"#000000\">value = [14, 12]</text>\n<text text-anchor=\"start\" x=\"595\" y=\"-111.8\" font-family=\"Helvetica,sans-Serif\" font-size=\"14.00\" fill=\"#000000\">class = democrat</text>\n</g>\n<!-- 6&#45;&gt;10 -->\n<g id=\"edge10\" class=\"edge\">\n<title>6&#45;&gt;10</title>\n<path fill=\"none\" stroke=\"#000000\" d=\"M554.9135,-222.8796C566.5952,-213.4229 579.0975,-203.302 591.081,-193.6011\"/>\n<polygon fill=\"#000000\" stroke=\"#000000\" points=\"593.2968,-196.3105 598.8671,-187.2981 588.8924,-190.8697 593.2968,-196.3105\"/>\n</g>\n<!-- 8 -->\n<g id=\"node9\" class=\"node\">\n<title>8</title>\n<path fill=\"#e58139\" stroke=\"#000000\" d=\"M411,-68C411,-68 308,-68 308,-68 302,-68 296,-62 296,-56 296,-56 296,-12 296,-12 296,-6 302,0 308,0 308,0 411,0 411,0 417,0 423,-6 423,-12 423,-12 423,-56 423,-56 423,-62 417,-68 411,-68\"/>\n<text text-anchor=\"start\" x=\"317\" y=\"-52.8\" font-family=\"Helvetica,sans-Serif\" font-size=\"14.00\" fill=\"#000000\">entropy = 0.0</text>\n<text text-anchor=\"start\" x=\"315.5\" y=\"-37.8\" font-family=\"Helvetica,sans-Serif\" font-size=\"14.00\" fill=\"#000000\">samples = 82</text>\n<text text-anchor=\"start\" x=\"314\" y=\"-22.8\" font-family=\"Helvetica,sans-Serif\" font-size=\"14.00\" fill=\"#000000\">value = [82, 0]</text>\n<text text-anchor=\"start\" x=\"304\" y=\"-7.8\" font-family=\"Helvetica,sans-Serif\" font-size=\"14.00\" fill=\"#000000\">class = democrat</text>\n</g>\n<!-- 7&#45;&gt;8 -->\n<g id=\"edge8\" class=\"edge\">\n<title>7&#45;&gt;8</title>\n<path fill=\"none\" stroke=\"#000000\" d=\"M449.8797,-103.9815C437.4167,-94.3313 424.1662,-84.0714 411.7627,-74.4673\"/>\n<polygon fill=\"#000000\" stroke=\"#000000\" points=\"413.8005,-71.6186 403.7508,-68.2637 409.5149,-77.1534 413.8005,-71.6186\"/>\n</g>\n<!-- 9 -->\n<g id=\"node10\" class=\"node\">\n<title>9</title>\n<path fill=\"#e89253\" stroke=\"#000000\" d=\"M556,-68C556,-68 453,-68 453,-68 447,-68 441,-62 441,-56 441,-56 441,-12 441,-12 441,-6 447,0 453,0 453,0 556,0 556,0 562,0 568,-6 568,-12 568,-12 568,-56 568,-56 568,-62 562,-68 556,-68\"/>\n<text text-anchor=\"start\" x=\"453.5\" y=\"-52.8\" font-family=\"Helvetica,sans-Serif\" font-size=\"14.00\" fill=\"#000000\">entropy = 0.523</text>\n<text text-anchor=\"start\" x=\"460.5\" y=\"-37.8\" font-family=\"Helvetica,sans-Serif\" font-size=\"14.00\" fill=\"#000000\">samples = 17</text>\n<text text-anchor=\"start\" x=\"459\" y=\"-22.8\" font-family=\"Helvetica,sans-Serif\" font-size=\"14.00\" fill=\"#000000\">value = [15, 2]</text>\n<text text-anchor=\"start\" x=\"449\" y=\"-7.8\" font-family=\"Helvetica,sans-Serif\" font-size=\"14.00\" fill=\"#000000\">class = democrat</text>\n</g>\n<!-- 7&#45;&gt;9 -->\n<g id=\"edge9\" class=\"edge\">\n<title>7&#45;&gt;9</title>\n<path fill=\"none\" stroke=\"#000000\" d=\"M503.8724,-103.9815C503.9474,-95.618 504.0265,-86.7965 504.1023,-78.3409\"/>\n<polygon fill=\"#000000\" stroke=\"#000000\" points=\"507.6028,-78.2947 504.1927,-68.2637 500.6031,-78.2318 507.6028,-78.2947\"/>\n</g>\n<!-- 11 -->\n<g id=\"node12\" class=\"node\">\n<title>11</title>\n<path fill=\"#eeae80\" stroke=\"#000000\" d=\"M702,-68C702,-68 599,-68 599,-68 593,-68 587,-62 587,-56 587,-56 587,-12 587,-12 587,-6 593,0 599,0 599,0 702,0 702,0 708,0 714,-6 714,-12 714,-12 714,-56 714,-56 714,-62 708,-68 702,-68\"/>\n<text text-anchor=\"start\" x=\"599.5\" y=\"-52.8\" font-family=\"Helvetica,sans-Serif\" font-size=\"14.00\" fill=\"#000000\">entropy = 0.831</text>\n<text text-anchor=\"start\" x=\"606.5\" y=\"-37.8\" font-family=\"Helvetica,sans-Serif\" font-size=\"14.00\" fill=\"#000000\">samples = 19</text>\n<text text-anchor=\"start\" x=\"605\" y=\"-22.8\" font-family=\"Helvetica,sans-Serif\" font-size=\"14.00\" fill=\"#000000\">value = [14, 5]</text>\n<text text-anchor=\"start\" x=\"595\" y=\"-7.8\" font-family=\"Helvetica,sans-Serif\" font-size=\"14.00\" fill=\"#000000\">class = democrat</text>\n</g>\n<!-- 10&#45;&gt;11 -->\n<g id=\"edge11\" class=\"edge\">\n<title>10&#45;&gt;11</title>\n<path fill=\"none\" stroke=\"#000000\" d=\"M650.5,-103.9815C650.5,-95.618 650.5,-86.7965 650.5,-78.3409\"/>\n<polygon fill=\"#000000\" stroke=\"#000000\" points=\"654.0001,-78.2636 650.5,-68.2637 647.0001,-78.2637 654.0001,-78.2636\"/>\n</g>\n<!-- 12 -->\n<g id=\"node13\" class=\"node\">\n<title>12</title>\n<path fill=\"#399de5\" stroke=\"#000000\" d=\"M847,-68C847,-68 744,-68 744,-68 738,-68 732,-62 732,-56 732,-56 732,-12 732,-12 732,-6 738,0 744,0 744,0 847,0 847,0 853,0 859,-6 859,-12 859,-12 859,-56 859,-56 859,-62 853,-68 847,-68\"/>\n<text text-anchor=\"start\" x=\"753\" y=\"-52.8\" font-family=\"Helvetica,sans-Serif\" font-size=\"14.00\" fill=\"#000000\">entropy = 0.0</text>\n<text text-anchor=\"start\" x=\"756\" y=\"-37.8\" font-family=\"Helvetica,sans-Serif\" font-size=\"14.00\" fill=\"#000000\">samples = 7</text>\n<text text-anchor=\"start\" x=\"754\" y=\"-22.8\" font-family=\"Helvetica,sans-Serif\" font-size=\"14.00\" fill=\"#000000\">value = [0, 7]</text>\n<text text-anchor=\"start\" x=\"740\" y=\"-7.8\" font-family=\"Helvetica,sans-Serif\" font-size=\"14.00\" fill=\"#000000\">class = democrat</text>\n</g>\n<!-- 10&#45;&gt;12 -->\n<g id=\"edge12\" class=\"edge\">\n<title>10&#45;&gt;12</title>\n<path fill=\"none\" stroke=\"#000000\" d=\"M704.4926,-103.9815C717.0422,-94.3313 730.3847,-84.0714 742.8744,-74.4673\"/>\n<polygon fill=\"#000000\" stroke=\"#000000\" points=\"745.1481,-77.134 750.9419,-68.2637 740.881,-71.585 745.1481,-77.134\"/>\n</g>\n</g>\n</svg>\n"
          },
          "metadata": {},
          "execution_count": 35
        }
      ]
    },
    {
      "cell_type": "markdown",
      "source": [
        "Let's nowthrow together a confusion matrix. This will help to interpret our results by showing us `true positives`, `false negatives`, `true negatives`, and `false positives`."
      ],
      "metadata": {
        "id": "QNZP4SSbXciW"
      }
    },
    {
      "cell_type": "code",
      "source": [
        "# Confusion Matrix\n",
        "confusion_matrix(y_test, y_prediction)"
      ],
      "metadata": {
        "id": "doUX6lOvXvNn",
        "outputId": "b2ff7f87-dc9d-4b26-b05f-c63dc7c5b18e",
        "colab": {
          "base_uri": "https://localhost:8080/"
        }
      },
      "execution_count": 36,
      "outputs": [
        {
          "output_type": "execute_result",
          "data": {
            "text/plain": [
              "array([[51,  4],\n",
              "       [ 4, 85]])"
            ]
          },
          "metadata": {},
          "execution_count": 36
        }
      ]
    },
    {
      "cell_type": "code",
      "source": [
        "# Slightly better confustion matrix\n",
        "y_test_ = pd.Series(y_test.tolist(), name='Actual')\n",
        "y_prediction_ = pd.Series(y_prediction.tolist(), name='Predicted')\n",
        "pd.crosstab(y_test_, y_prediction_)"
      ],
      "metadata": {
        "id": "KW08p63WZSBY",
        "outputId": "a736c769-8bac-4d3e-a198-a10cd02b92c7",
        "colab": {
          "base_uri": "https://localhost:8080/",
          "height": 142
        }
      },
      "execution_count": 37,
      "outputs": [
        {
          "output_type": "execute_result",
          "data": {
            "text/html": [
              "\n",
              "  <div id=\"df-7eeb55af-f5a1-40b7-b502-15fa31af1a02\">\n",
              "    <div class=\"colab-df-container\">\n",
              "      <div>\n",
              "<style scoped>\n",
              "    .dataframe tbody tr th:only-of-type {\n",
              "        vertical-align: middle;\n",
              "    }\n",
              "\n",
              "    .dataframe tbody tr th {\n",
              "        vertical-align: top;\n",
              "    }\n",
              "\n",
              "    .dataframe thead th {\n",
              "        text-align: right;\n",
              "    }\n",
              "</style>\n",
              "<table border=\"1\" class=\"dataframe\">\n",
              "  <thead>\n",
              "    <tr style=\"text-align: right;\">\n",
              "      <th>Predicted</th>\n",
              "      <th>0</th>\n",
              "      <th>1</th>\n",
              "    </tr>\n",
              "    <tr>\n",
              "      <th>Actual</th>\n",
              "      <th></th>\n",
              "      <th></th>\n",
              "    </tr>\n",
              "  </thead>\n",
              "  <tbody>\n",
              "    <tr>\n",
              "      <th>0</th>\n",
              "      <td>51</td>\n",
              "      <td>4</td>\n",
              "    </tr>\n",
              "    <tr>\n",
              "      <th>1</th>\n",
              "      <td>4</td>\n",
              "      <td>85</td>\n",
              "    </tr>\n",
              "  </tbody>\n",
              "</table>\n",
              "</div>\n",
              "      <button class=\"colab-df-convert\" onclick=\"convertToInteractive('df-7eeb55af-f5a1-40b7-b502-15fa31af1a02')\"\n",
              "              title=\"Convert this dataframe to an interactive table.\"\n",
              "              style=\"display:none;\">\n",
              "        \n",
              "  <svg xmlns=\"http://www.w3.org/2000/svg\" height=\"24px\"viewBox=\"0 0 24 24\"\n",
              "       width=\"24px\">\n",
              "    <path d=\"M0 0h24v24H0V0z\" fill=\"none\"/>\n",
              "    <path d=\"M18.56 5.44l.94 2.06.94-2.06 2.06-.94-2.06-.94-.94-2.06-.94 2.06-2.06.94zm-11 1L8.5 8.5l.94-2.06 2.06-.94-2.06-.94L8.5 2.5l-.94 2.06-2.06.94zm10 10l.94 2.06.94-2.06 2.06-.94-2.06-.94-.94-2.06-.94 2.06-2.06.94z\"/><path d=\"M17.41 7.96l-1.37-1.37c-.4-.4-.92-.59-1.43-.59-.52 0-1.04.2-1.43.59L10.3 9.45l-7.72 7.72c-.78.78-.78 2.05 0 2.83L4 21.41c.39.39.9.59 1.41.59.51 0 1.02-.2 1.41-.59l7.78-7.78 2.81-2.81c.8-.78.8-2.07 0-2.86zM5.41 20L4 18.59l7.72-7.72 1.47 1.35L5.41 20z\"/>\n",
              "  </svg>\n",
              "      </button>\n",
              "      \n",
              "  <style>\n",
              "    .colab-df-container {\n",
              "      display:flex;\n",
              "      flex-wrap:wrap;\n",
              "      gap: 12px;\n",
              "    }\n",
              "\n",
              "    .colab-df-convert {\n",
              "      background-color: #E8F0FE;\n",
              "      border: none;\n",
              "      border-radius: 50%;\n",
              "      cursor: pointer;\n",
              "      display: none;\n",
              "      fill: #1967D2;\n",
              "      height: 32px;\n",
              "      padding: 0 0 0 0;\n",
              "      width: 32px;\n",
              "    }\n",
              "\n",
              "    .colab-df-convert:hover {\n",
              "      background-color: #E2EBFA;\n",
              "      box-shadow: 0px 1px 2px rgba(60, 64, 67, 0.3), 0px 1px 3px 1px rgba(60, 64, 67, 0.15);\n",
              "      fill: #174EA6;\n",
              "    }\n",
              "\n",
              "    [theme=dark] .colab-df-convert {\n",
              "      background-color: #3B4455;\n",
              "      fill: #D2E3FC;\n",
              "    }\n",
              "\n",
              "    [theme=dark] .colab-df-convert:hover {\n",
              "      background-color: #434B5C;\n",
              "      box-shadow: 0px 1px 3px 1px rgba(0, 0, 0, 0.15);\n",
              "      filter: drop-shadow(0px 1px 2px rgba(0, 0, 0, 0.3));\n",
              "      fill: #FFFFFF;\n",
              "    }\n",
              "  </style>\n",
              "\n",
              "      <script>\n",
              "        const buttonEl =\n",
              "          document.querySelector('#df-7eeb55af-f5a1-40b7-b502-15fa31af1a02 button.colab-df-convert');\n",
              "        buttonEl.style.display =\n",
              "          google.colab.kernel.accessAllowed ? 'block' : 'none';\n",
              "\n",
              "        async function convertToInteractive(key) {\n",
              "          const element = document.querySelector('#df-7eeb55af-f5a1-40b7-b502-15fa31af1a02');\n",
              "          const dataTable =\n",
              "            await google.colab.kernel.invokeFunction('convertToInteractive',\n",
              "                                                     [key], {});\n",
              "          if (!dataTable) return;\n",
              "\n",
              "          const docLinkHtml = 'Like what you see? Visit the ' +\n",
              "            '<a target=\"_blank\" href=https://colab.research.google.com/notebooks/data_table.ipynb>data table notebook</a>'\n",
              "            + ' to learn more about interactive tables.';\n",
              "          element.innerHTML = '';\n",
              "          dataTable['output_type'] = 'display_data';\n",
              "          await google.colab.output.renderOutput(dataTable, element);\n",
              "          const docLink = document.createElement('div');\n",
              "          docLink.innerHTML = docLinkHtml;\n",
              "          element.appendChild(docLink);\n",
              "        }\n",
              "      </script>\n",
              "    </div>\n",
              "  </div>\n",
              "  "
            ],
            "text/plain": [
              "Predicted   0   1\n",
              "Actual           \n",
              "0          51   4\n",
              "1           4  85"
            ]
          },
          "metadata": {},
          "execution_count": 37
        }
      ]
    },
    {
      "cell_type": "markdown",
      "source": [
        "Generally, we can see good performance here. Very few mistakes were made as we can see from the confusion matrix, and we have a good accuracy score."
      ],
      "metadata": {
        "id": "0NF_fCenaooq"
      }
    },
    {
      "cell_type": "markdown",
      "source": [
        ""
      ],
      "metadata": {
        "id": "9ZPorB2GYwMu"
      }
    },
    {
      "cell_type": "markdown",
      "source": [
        "### K-Nearest Neighbours (KNN)\n",
        "\n",
        "Let's now look at KNN. In simple terms, this just calculates the distance between a sample data point and other training data points.\n",
        "\n",
        "Different distance measurement types can be used. We also need to specify k (usualy best to use an odd number). This represents the k-nearest data points for the sample data point. By doing this, the sample data point is assigned to the class where the majority of those k points belong. \n",
        "\n",
        "When selecting k, we want to select the optimal value that won't result in our model overfitting or underfitting.\n",
        "\n",
        "We can do this similar to how we did the decision tree. Test a lot of values of k to determine the best one.\n",
        "\n",
        "Although I already split the data up, defined the target variable etc, I'll run the code again below for consistency, to make it clearer what's going on.\n"
      ],
      "metadata": {
        "id": "aJ09xOPs2bYb"
      }
    },
    {
      "cell_type": "code",
      "source": [
        "# for consistency\n",
        "X = votes.drop(['party'], axis = 1)\n",
        "\n",
        "# Our Target Variable\n",
        "Y = votes['party']"
      ],
      "metadata": {
        "id": "a60l6DqW5M1o"
      },
      "execution_count": 111,
      "outputs": []
    },
    {
      "cell_type": "code",
      "source": [
        "# Split our data\n",
        "x_train, x_test, y_train, y_test = train_test_split(X, Y, test_size = .33, stratify = Y, random_state = 10)"
      ],
      "metadata": {
        "id": "RO962kskSrtr"
      },
      "execution_count": 112,
      "outputs": []
    },
    {
      "cell_type": "markdown",
      "source": [
        "Now we'll work out the ideal K. We can do this using GridSearchCV like we did for the DT. There's is another way, using the `elbow method` but couldn't find a simple way of implementing this."
      ],
      "metadata": {
        "id": "mc1_hLJF9Uiy"
      }
    },
    {
      "cell_type": "code",
      "source": [
        "# Create knn object\n",
        "knn = KNeighborsClassifier()"
      ],
      "metadata": {
        "id": "e9YTP5bW935z"
      },
      "execution_count": 113,
      "outputs": []
    },
    {
      "cell_type": "code",
      "source": [
        "# Our parameter. We'll try 60 k values\n",
        "parameters = {'n_neighbors' : range(1,60)}"
      ],
      "metadata": {
        "id": "NTXJnQZw8R4B"
      },
      "execution_count": 114,
      "outputs": []
    },
    {
      "cell_type": "code",
      "source": [
        "# Grid Search \n",
        "knn_grid = GridSearchCV(knn, parameters, scoring = 'accuracy')"
      ],
      "metadata": {
        "id": "wg_T9lok9fin"
      },
      "execution_count": 115,
      "outputs": []
    },
    {
      "cell_type": "code",
      "source": [
        "# Fit model to our training data\n",
        "knn_grid.fit(x_train, y_train)"
      ],
      "metadata": {
        "id": "Y0hcga2Q6Son",
        "outputId": "e4a4bab0-b31b-4537-c1b4-c88e0217665b",
        "colab": {
          "base_uri": "https://localhost:8080/"
        }
      },
      "execution_count": 116,
      "outputs": [
        {
          "output_type": "execute_result",
          "data": {
            "text/plain": [
              "GridSearchCV(estimator=KNeighborsClassifier(),\n",
              "             param_grid={'n_neighbors': range(1, 60)}, scoring='accuracy')"
            ]
          },
          "metadata": {},
          "execution_count": 116
        }
      ]
    },
    {
      "cell_type": "code",
      "source": [
        "# What is our ideal K?\n",
        "knn_grid.best_params_"
      ],
      "metadata": {
        "id": "WVliTYEy-T7P",
        "outputId": "3dc2c59c-0333-4a52-fabe-9ba1492baf1c",
        "colab": {
          "base_uri": "https://localhost:8080/"
        }
      },
      "execution_count": 117,
      "outputs": [
        {
          "output_type": "execute_result",
          "data": {
            "text/plain": [
              "{'n_neighbors': 5}"
            ]
          },
          "metadata": {},
          "execution_count": 117
        }
      ]
    },
    {
      "cell_type": "code",
      "source": [
        "# Predict our test and training set results\n",
        "y_prediction_test = knn_grid.predict(x_test)\n",
        "y_prediction_train = knn_grid.predict(x_train)"
      ],
      "metadata": {
        "id": "gDX_qXZ86gqP"
      },
      "execution_count": 118,
      "outputs": []
    },
    {
      "cell_type": "code",
      "source": [
        "# Compute accuracy scores\n",
        "accuracy_test = accuracy_score(y_test, y_prediction_test)\n",
        "accuracy_train = accuracy_score(y_train, y_prediction_train)\n",
        "\n",
        "print(f\"Test Accuracy: {accuracy_test}\")\n",
        "print(f\"Train Accuracy: {accuracy_train}\")\n",
        "print(f\"Score from .best_score_ : {knn_grid.best_score_}\")"
      ],
      "metadata": {
        "id": "kgFkKAoM6OyU",
        "outputId": "4dea1f11-f5e5-4139-ce14-5fb2a35a4a4f",
        "colab": {
          "base_uri": "https://localhost:8080/"
        }
      },
      "execution_count": 120,
      "outputs": [
        {
          "output_type": "stream",
          "name": "stdout",
          "text": [
            "Test Accuracy: 0.9513888888888888\n",
            "Train Accuracy: 0.9551724137931035\n",
            "Score from .best_score_ : 0.9310344827586207\n"
          ]
        }
      ]
    },
    {
      "cell_type": "code",
      "source": [
        "# Confustion matrix\n",
        "y_test_ = pd.Series(y_test.tolist(), name='Actual')\n",
        "y_prediction_ = pd.Series(y_prediction_test.tolist(), name='Predicted')\n",
        "cm = pd.crosstab(y_test_, y_prediction_)\n",
        "cm"
      ],
      "metadata": {
        "id": "nr8lqJlL7pmA",
        "outputId": "6b7952dc-ab02-4d0c-f273-e63604f3d315",
        "colab": {
          "base_uri": "https://localhost:8080/",
          "height": 142
        }
      },
      "execution_count": 127,
      "outputs": [
        {
          "output_type": "execute_result",
          "data": {
            "text/html": [
              "\n",
              "  <div id=\"df-e07dbf3a-3ddb-4710-b895-9ee5f75f646a\">\n",
              "    <div class=\"colab-df-container\">\n",
              "      <div>\n",
              "<style scoped>\n",
              "    .dataframe tbody tr th:only-of-type {\n",
              "        vertical-align: middle;\n",
              "    }\n",
              "\n",
              "    .dataframe tbody tr th {\n",
              "        vertical-align: top;\n",
              "    }\n",
              "\n",
              "    .dataframe thead th {\n",
              "        text-align: right;\n",
              "    }\n",
              "</style>\n",
              "<table border=\"1\" class=\"dataframe\">\n",
              "  <thead>\n",
              "    <tr style=\"text-align: right;\">\n",
              "      <th>Predicted</th>\n",
              "      <th>0</th>\n",
              "      <th>1</th>\n",
              "    </tr>\n",
              "    <tr>\n",
              "      <th>Actual</th>\n",
              "      <th></th>\n",
              "      <th></th>\n",
              "    </tr>\n",
              "  </thead>\n",
              "  <tbody>\n",
              "    <tr>\n",
              "      <th>0</th>\n",
              "      <td>53</td>\n",
              "      <td>2</td>\n",
              "    </tr>\n",
              "    <tr>\n",
              "      <th>1</th>\n",
              "      <td>5</td>\n",
              "      <td>84</td>\n",
              "    </tr>\n",
              "  </tbody>\n",
              "</table>\n",
              "</div>\n",
              "      <button class=\"colab-df-convert\" onclick=\"convertToInteractive('df-e07dbf3a-3ddb-4710-b895-9ee5f75f646a')\"\n",
              "              title=\"Convert this dataframe to an interactive table.\"\n",
              "              style=\"display:none;\">\n",
              "        \n",
              "  <svg xmlns=\"http://www.w3.org/2000/svg\" height=\"24px\"viewBox=\"0 0 24 24\"\n",
              "       width=\"24px\">\n",
              "    <path d=\"M0 0h24v24H0V0z\" fill=\"none\"/>\n",
              "    <path d=\"M18.56 5.44l.94 2.06.94-2.06 2.06-.94-2.06-.94-.94-2.06-.94 2.06-2.06.94zm-11 1L8.5 8.5l.94-2.06 2.06-.94-2.06-.94L8.5 2.5l-.94 2.06-2.06.94zm10 10l.94 2.06.94-2.06 2.06-.94-2.06-.94-.94-2.06-.94 2.06-2.06.94z\"/><path d=\"M17.41 7.96l-1.37-1.37c-.4-.4-.92-.59-1.43-.59-.52 0-1.04.2-1.43.59L10.3 9.45l-7.72 7.72c-.78.78-.78 2.05 0 2.83L4 21.41c.39.39.9.59 1.41.59.51 0 1.02-.2 1.41-.59l7.78-7.78 2.81-2.81c.8-.78.8-2.07 0-2.86zM5.41 20L4 18.59l7.72-7.72 1.47 1.35L5.41 20z\"/>\n",
              "  </svg>\n",
              "      </button>\n",
              "      \n",
              "  <style>\n",
              "    .colab-df-container {\n",
              "      display:flex;\n",
              "      flex-wrap:wrap;\n",
              "      gap: 12px;\n",
              "    }\n",
              "\n",
              "    .colab-df-convert {\n",
              "      background-color: #E8F0FE;\n",
              "      border: none;\n",
              "      border-radius: 50%;\n",
              "      cursor: pointer;\n",
              "      display: none;\n",
              "      fill: #1967D2;\n",
              "      height: 32px;\n",
              "      padding: 0 0 0 0;\n",
              "      width: 32px;\n",
              "    }\n",
              "\n",
              "    .colab-df-convert:hover {\n",
              "      background-color: #E2EBFA;\n",
              "      box-shadow: 0px 1px 2px rgba(60, 64, 67, 0.3), 0px 1px 3px 1px rgba(60, 64, 67, 0.15);\n",
              "      fill: #174EA6;\n",
              "    }\n",
              "\n",
              "    [theme=dark] .colab-df-convert {\n",
              "      background-color: #3B4455;\n",
              "      fill: #D2E3FC;\n",
              "    }\n",
              "\n",
              "    [theme=dark] .colab-df-convert:hover {\n",
              "      background-color: #434B5C;\n",
              "      box-shadow: 0px 1px 3px 1px rgba(0, 0, 0, 0.15);\n",
              "      filter: drop-shadow(0px 1px 2px rgba(0, 0, 0, 0.3));\n",
              "      fill: #FFFFFF;\n",
              "    }\n",
              "  </style>\n",
              "\n",
              "      <script>\n",
              "        const buttonEl =\n",
              "          document.querySelector('#df-e07dbf3a-3ddb-4710-b895-9ee5f75f646a button.colab-df-convert');\n",
              "        buttonEl.style.display =\n",
              "          google.colab.kernel.accessAllowed ? 'block' : 'none';\n",
              "\n",
              "        async function convertToInteractive(key) {\n",
              "          const element = document.querySelector('#df-e07dbf3a-3ddb-4710-b895-9ee5f75f646a');\n",
              "          const dataTable =\n",
              "            await google.colab.kernel.invokeFunction('convertToInteractive',\n",
              "                                                     [key], {});\n",
              "          if (!dataTable) return;\n",
              "\n",
              "          const docLinkHtml = 'Like what you see? Visit the ' +\n",
              "            '<a target=\"_blank\" href=https://colab.research.google.com/notebooks/data_table.ipynb>data table notebook</a>'\n",
              "            + ' to learn more about interactive tables.';\n",
              "          element.innerHTML = '';\n",
              "          dataTable['output_type'] = 'display_data';\n",
              "          await google.colab.output.renderOutput(dataTable, element);\n",
              "          const docLink = document.createElement('div');\n",
              "          docLink.innerHTML = docLinkHtml;\n",
              "          element.appendChild(docLink);\n",
              "        }\n",
              "      </script>\n",
              "    </div>\n",
              "  </div>\n",
              "  "
            ],
            "text/plain": [
              "Predicted   0   1\n",
              "Actual           \n",
              "0          53   2\n",
              "1           5  84"
            ]
          },
          "metadata": {},
          "execution_count": 127
        }
      ]
    },
    {
      "cell_type": "code",
      "source": [
        "print(f\"True Positive: {cm[0][0]}\")\n",
        "print(f\"True Negative: {cm[1][1]}\")\n",
        "print(f\"False Positive: {cm[0][1]}\")\n",
        "print(f\"False Negative: {cm[1][0]}\")"
      ],
      "metadata": {
        "id": "16Q1X_lMAs53",
        "outputId": "ebdaec49-5227-4e94-c7c3-7b85fdbf3775",
        "colab": {
          "base_uri": "https://localhost:8080/"
        }
      },
      "execution_count": 132,
      "outputs": [
        {
          "output_type": "stream",
          "name": "stdout",
          "text": [
            "True Positive: 53\n",
            "True Negative: 84\n",
            "False Positive: 5\n",
            "False Negative: 2\n"
          ]
        }
      ]
    },
    {
      "cell_type": "markdown",
      "source": [
        "We can see that our model, with a k value of 5, has performed well. We have high accuracy scores, as well as very few errors based on the confusion matrix.\n",
        "\n",
        "Should be noted I just stuck with the accuracy evaluation metric for both the decision tree and KNN. \n",
        "\n",
        "The formula for this is:\n",
        "\n",
        "``` \n",
        "true positive + true negative / true positive + true negative + false positive + false negative\n",
        "```\n",
        "\n",
        "We could also have used recall:\n",
        "\n",
        "```\n",
        "true positive / true positive + false negative\n",
        "```\n",
        "\n",
        "or Precision:\n",
        "\n",
        "```\n",
        "true positive / true positive + false positive\n",
        "```\n",
        "\n",
        "Depending on the task, some may be better suited than others. Accuracy is the simplest, so I just stuck with that. But the other metrics may have been useful too. "
      ],
      "metadata": {
        "id": "3BbpOeuqFXtu"
      }
    },
    {
      "cell_type": "code",
      "source": [
        ""
      ],
      "metadata": {
        "id": "hmgSS-JcFf5a"
      },
      "execution_count": null,
      "outputs": []
    }
  ]
}